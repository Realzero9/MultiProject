{
 "cells": [
  {
   "cell_type": "markdown",
   "id": "71378d22",
   "metadata": {},
   "source": [
    "## 1. module import"
   ]
  },
  {
   "cell_type": "code",
   "execution_count": 1,
   "id": "9dedf379",
   "metadata": {},
   "outputs": [],
   "source": [
    "import pandas as pd\n",
    "import numpy as np\n",
    "from tqdm import tqdm"
   ]
  },
  {
   "cell_type": "markdown",
   "id": "afd34923",
   "metadata": {},
   "source": [
    "# 2. 따릉이 시간대별 이용정보(2018~19) : xlsx -> csv화\n",
    "1. 엑셀파일 : 파일명, 인코딩 등 정리 하기\n",
    "2. 월 : 앞 숫자가 0인 경우 에러 -> zfill 사용하여 채우기\n",
    "3. for문 사용"
   ]
  },
  {
   "cell_type": "code",
   "execution_count": 2,
   "id": "e35c23e6",
   "metadata": {},
   "outputs": [
    {
     "name": "stderr",
     "output_type": "stream",
     "text": [
      "\r",
      "  0%|                                                                                           | 0/11 [00:00<?, ?it/s]"
     ]
    },
    {
     "name": "stdout",
     "output_type": "stream",
     "text": [
      "18-01 xlsx - ok\n"
     ]
    },
    {
     "name": "stderr",
     "output_type": "stream",
     "text": [
      "\r",
      "  9%|███████▌                                                                           | 1/11 [00:23<03:51, 23.11s/it]"
     ]
    },
    {
     "name": "stdout",
     "output_type": "stream",
     "text": [
      "18-01 csv - ok\n",
      "18-02 xlsx - ok\n"
     ]
    },
    {
     "name": "stderr",
     "output_type": "stream",
     "text": [
      "\r",
      " 18%|███████████████                                                                    | 2/11 [00:46<03:26, 22.99s/it]"
     ]
    },
    {
     "name": "stdout",
     "output_type": "stream",
     "text": [
      "18-02 csv - ok\n",
      "18-03 xlsx - ok\n"
     ]
    },
    {
     "name": "stderr",
     "output_type": "stream",
     "text": [
      "\r",
      " 27%|██████████████████████▋                                                            | 3/11 [01:42<05:07, 38.40s/it]"
     ]
    },
    {
     "name": "stdout",
     "output_type": "stream",
     "text": [
      "18-03 csv - ok\n",
      "18-04 xlsx - ok\n"
     ]
    },
    {
     "name": "stderr",
     "output_type": "stream",
     "text": [
      "\r",
      " 36%|██████████████████████████████▏                                                    | 4/11 [03:02<06:21, 54.54s/it]"
     ]
    },
    {
     "name": "stdout",
     "output_type": "stream",
     "text": [
      "18-04 csv - ok\n",
      "18-05 xlsx - ok\n"
     ]
    },
    {
     "name": "stderr",
     "output_type": "stream",
     "text": [
      "\r",
      " 45%|█████████████████████████████████████▋                                             | 5/11 [04:56<07:36, 76.07s/it]"
     ]
    },
    {
     "name": "stdout",
     "output_type": "stream",
     "text": [
      "18-05 csv - ok\n",
      "18-06 xlsx - ok\n"
     ]
    },
    {
     "name": "stderr",
     "output_type": "stream",
     "text": [
      "\r",
      " 55%|█████████████████████████████████████████████▎                                     | 6/11 [07:13<08:04, 96.87s/it]"
     ]
    },
    {
     "name": "stdout",
     "output_type": "stream",
     "text": [
      "18-06 csv - ok\n",
      "18-07 xlsx - ok\n"
     ]
    },
    {
     "name": "stderr",
     "output_type": "stream",
     "text": [
      "\r",
      " 64%|████████████████████████████████████████████████████▏                             | 7/11 [09:05<06:47, 101.93s/it]"
     ]
    },
    {
     "name": "stdout",
     "output_type": "stream",
     "text": [
      "18-07 csv - ok\n",
      "18-08 xlsx - ok\n"
     ]
    },
    {
     "name": "stderr",
     "output_type": "stream",
     "text": [
      "\r",
      " 73%|███████████████████████████████████████████████████████████▋                      | 8/11 [10:53<05:11, 103.72s/it]"
     ]
    },
    {
     "name": "stdout",
     "output_type": "stream",
     "text": [
      "18-08 csv - ok\n",
      "18-09 xlsx - ok\n"
     ]
    },
    {
     "name": "stderr",
     "output_type": "stream",
     "text": [
      "\r",
      " 82%|███████████████████████████████████████████████████████████████████               | 9/11 [12:42<03:30, 105.50s/it]"
     ]
    },
    {
     "name": "stdout",
     "output_type": "stream",
     "text": [
      "18-09 csv - ok\n",
      "18-10 xlsx - ok\n"
     ]
    },
    {
     "name": "stderr",
     "output_type": "stream",
     "text": [
      "\r",
      " 91%|█████████████████████████████████████████████████████████████████████████▋       | 10/11 [14:28<01:45, 105.61s/it]"
     ]
    },
    {
     "name": "stdout",
     "output_type": "stream",
     "text": [
      "18-10 csv - ok\n",
      "18-11 xlsx - ok\n"
     ]
    },
    {
     "name": "stderr",
     "output_type": "stream",
     "text": [
      "100%|██████████████████████████████████████████████████████████████████████████████████| 11/11 [15:50<00:00, 86.43s/it]"
     ]
    },
    {
     "name": "stdout",
     "output_type": "stream",
     "text": [
      "18-11 csv - ok\n"
     ]
    },
    {
     "name": "stderr",
     "output_type": "stream",
     "text": [
      "\n"
     ]
    }
   ],
   "source": [
    "for year in range(18,19):\n",
    "    for month in tqdm(range(1, 12)):\n",
    "        try:\n",
    "            y = str(year).zfill(2)\n",
    "            m = str(month).zfill(2)\n",
    "            # 엑셀파일 불러오기\n",
    "            temp = pd.read_excel('./Data/서울특별시 공공자전거 이용정보(시간대별)_{0}.{1}.xlsx'.format(y, m), header=0)\n",
    "            print('{0}-{1} xlsx - ok'.format(y,m))\n",
    "            # csv로 저장하기\n",
    "            temp.to_csv('./Data/서울특별시 공공자전거 이용정보(시간대별)_{0}.{1}.csv'.format(y, m))\n",
    "            print('{0}-{1} csv - ok'.format(y,m))\n",
    "        except:\n",
    "            print('에러',y,m)\n",
    "            pass"
   ]
  },
  {
   "cell_type": "markdown",
   "id": "803f40f4",
   "metadata": {},
   "source": [
    "# 3. 함수 정의 : 각 csv파일 -> 데이터프레임화\n",
    " - 컬럼명 변경해서 return"
   ]
  },
  {
   "cell_type": "code",
   "execution_count": 3,
   "id": "deed8a35",
   "metadata": {},
   "outputs": [],
   "source": [
    "def create_data(yy, mm):\n",
    "    file_path = './Data/서울특별시 공공자전거 이용정보(시간대별)_{0}.{1}.csv'.format(yy,mm)\n",
    "    try:\n",
    "        f = pd.read_csv(file_path, encoding='utf-8', engine='python')\n",
    "        try:\n",
    "            if '사용시간' in f:\n",
    "                f['이동시간'] = f['사용시간']\n",
    "                f = f.drop('사용시간', axis=1)\n",
    "        except:\n",
    "            pass\n",
    "    except:\n",
    "        f = pd.read_csv(file_path, encoding='cp949', engine='python')\n",
    "        try:\n",
    "            if '사용시간' in f:\n",
    "                f['이동시간'] = f['사용시간']\n",
    "                f = f.drop('사용시간', axis=1)\n",
    "        except:\n",
    "            pass\n",
    "    df = f[['대여일자', '대여시간', '대여소번호', '대여소명', '대여구분코드', '성별', '연령대코드', '이용건수', '운동량',\n",
    "       '탄소량', '이동거리', '이동시간']]\n",
    "    return df"
   ]
  },
  {
   "cell_type": "markdown",
   "id": "4f9b9992",
   "metadata": {},
   "source": [
    "- 파일 모으기 : DF"
   ]
  },
  {
   "cell_type": "code",
   "execution_count": 5,
   "id": "35f6075b",
   "metadata": {
    "scrolled": false
   },
   "outputs": [
    {
     "name": "stderr",
     "output_type": "stream",
     "text": [
      "100%|██████████████████████████████████████████████████████████████████████████████████| 12/12 [01:03<00:00,  5.31s/it]\n"
     ]
    }
   ],
   "source": [
    "DF = pd.DataFrame()\n",
    "year = ['18']\n",
    "for y in year:\n",
    "    for m in tqdm(range(1, 13)):\n",
    "        try:\n",
    "            mm = str(m).zfill(2)\n",
    "            temp = create_data(y, mm)\n",
    "            DF = pd.concat([DF, temp], ignore_index=True)\n",
    "        except:\n",
    "            print('에러'+y+mm)\n",
    "            pass"
   ]
  },
  {
   "cell_type": "code",
   "execution_count": 6,
   "id": "891cf1f9",
   "metadata": {},
   "outputs": [
    {
     "data": {
      "text/html": [
       "<div>\n",
       "<style scoped>\n",
       "    .dataframe tbody tr th:only-of-type {\n",
       "        vertical-align: middle;\n",
       "    }\n",
       "\n",
       "    .dataframe tbody tr th {\n",
       "        vertical-align: top;\n",
       "    }\n",
       "\n",
       "    .dataframe thead th {\n",
       "        text-align: right;\n",
       "    }\n",
       "</style>\n",
       "<table border=\"1\" class=\"dataframe\">\n",
       "  <thead>\n",
       "    <tr style=\"text-align: right;\">\n",
       "      <th></th>\n",
       "      <th>대여일자</th>\n",
       "      <th>대여시간</th>\n",
       "      <th>대여소번호</th>\n",
       "      <th>대여소명</th>\n",
       "      <th>대여구분코드</th>\n",
       "      <th>성별</th>\n",
       "      <th>연령대코드</th>\n",
       "      <th>이용건수</th>\n",
       "      <th>운동량</th>\n",
       "      <th>탄소량</th>\n",
       "      <th>이동거리</th>\n",
       "      <th>이동시간</th>\n",
       "    </tr>\n",
       "  </thead>\n",
       "  <tbody>\n",
       "    <tr>\n",
       "      <th>0</th>\n",
       "      <td>2018-01-01</td>\n",
       "      <td>0</td>\n",
       "      <td>300</td>\n",
       "      <td>정동사거리</td>\n",
       "      <td>정기권</td>\n",
       "      <td>F</td>\n",
       "      <td>~10대</td>\n",
       "      <td>1</td>\n",
       "      <td>37.32</td>\n",
       "      <td>0.34</td>\n",
       "      <td>1450.0</td>\n",
       "      <td>23</td>\n",
       "    </tr>\n",
       "    <tr>\n",
       "      <th>1</th>\n",
       "      <td>2018-01-01</td>\n",
       "      <td>0</td>\n",
       "      <td>505</td>\n",
       "      <td>자양사거리 광진아크로텔 앞</td>\n",
       "      <td>정기권</td>\n",
       "      <td>F</td>\n",
       "      <td>20대</td>\n",
       "      <td>1</td>\n",
       "      <td>54.83</td>\n",
       "      <td>0.49</td>\n",
       "      <td>2130.0</td>\n",
       "      <td>15</td>\n",
       "    </tr>\n",
       "    <tr>\n",
       "      <th>2</th>\n",
       "      <td>2018-01-01</td>\n",
       "      <td>0</td>\n",
       "      <td>1531</td>\n",
       "      <td>미아사거리 1번 출구</td>\n",
       "      <td>정기권</td>\n",
       "      <td>F</td>\n",
       "      <td>20대</td>\n",
       "      <td>1</td>\n",
       "      <td>78.34</td>\n",
       "      <td>0.73</td>\n",
       "      <td>3140.0</td>\n",
       "      <td>17</td>\n",
       "    </tr>\n",
       "    <tr>\n",
       "      <th>3</th>\n",
       "      <td>2018-01-01</td>\n",
       "      <td>0</td>\n",
       "      <td>516</td>\n",
       "      <td>광진메디칼 앞</td>\n",
       "      <td>정기권</td>\n",
       "      <td>F</td>\n",
       "      <td>20대</td>\n",
       "      <td>1</td>\n",
       "      <td>29.95</td>\n",
       "      <td>0.29</td>\n",
       "      <td>1240.0</td>\n",
       "      <td>5</td>\n",
       "    </tr>\n",
       "    <tr>\n",
       "      <th>4</th>\n",
       "      <td>2018-01-01</td>\n",
       "      <td>0</td>\n",
       "      <td>3508</td>\n",
       "      <td>화양사거리</td>\n",
       "      <td>정기권</td>\n",
       "      <td>F</td>\n",
       "      <td>20대</td>\n",
       "      <td>1</td>\n",
       "      <td>46.09</td>\n",
       "      <td>0.45</td>\n",
       "      <td>1940.0</td>\n",
       "      <td>43</td>\n",
       "    </tr>\n",
       "    <tr>\n",
       "      <th>...</th>\n",
       "      <td>...</td>\n",
       "      <td>...</td>\n",
       "      <td>...</td>\n",
       "      <td>...</td>\n",
       "      <td>...</td>\n",
       "      <td>...</td>\n",
       "      <td>...</td>\n",
       "      <td>...</td>\n",
       "      <td>...</td>\n",
       "      <td>...</td>\n",
       "      <td>...</td>\n",
       "      <td>...</td>\n",
       "    </tr>\n",
       "    <tr>\n",
       "      <th>6447015</th>\n",
       "      <td>2018-12-31</td>\n",
       "      <td>23</td>\n",
       "      <td>1623</td>\n",
       "      <td>1623. 노원 구민회관</td>\n",
       "      <td>일일권</td>\n",
       "      <td>M</td>\n",
       "      <td>30대</td>\n",
       "      <td>1</td>\n",
       "      <td>38.00</td>\n",
       "      <td>0.23</td>\n",
       "      <td>1010.0</td>\n",
       "      <td>6</td>\n",
       "    </tr>\n",
       "    <tr>\n",
       "      <th>6447016</th>\n",
       "      <td>2018-12-31</td>\n",
       "      <td>23</td>\n",
       "      <td>394</td>\n",
       "      <td>394. 경희궁 자이 3단지</td>\n",
       "      <td>일일권</td>\n",
       "      <td>M</td>\n",
       "      <td>40대</td>\n",
       "      <td>1</td>\n",
       "      <td>64.86</td>\n",
       "      <td>0.54</td>\n",
       "      <td>2340.0</td>\n",
       "      <td>26</td>\n",
       "    </tr>\n",
       "    <tr>\n",
       "      <th>6447017</th>\n",
       "      <td>2018-12-31</td>\n",
       "      <td>23</td>\n",
       "      <td>207</td>\n",
       "      <td>207. 여의나루역 1번출구 앞</td>\n",
       "      <td>단체권</td>\n",
       "      <td>\\N</td>\n",
       "      <td>~10대</td>\n",
       "      <td>2</td>\n",
       "      <td>786.85</td>\n",
       "      <td>4.61</td>\n",
       "      <td>19870.0</td>\n",
       "      <td>103</td>\n",
       "    </tr>\n",
       "    <tr>\n",
       "      <th>6447018</th>\n",
       "      <td>2018-12-31</td>\n",
       "      <td>23</td>\n",
       "      <td>338</td>\n",
       "      <td>338. 세운스퀘어 앞</td>\n",
       "      <td>단체권</td>\n",
       "      <td>F</td>\n",
       "      <td>30대</td>\n",
       "      <td>2</td>\n",
       "      <td>30.60</td>\n",
       "      <td>0.32</td>\n",
       "      <td>1380.0</td>\n",
       "      <td>14</td>\n",
       "    </tr>\n",
       "    <tr>\n",
       "      <th>6447019</th>\n",
       "      <td>2018-12-31</td>\n",
       "      <td>23</td>\n",
       "      <td>1308</td>\n",
       "      <td>1308. 안암로터리 버스정류장 앞</td>\n",
       "      <td>단체권</td>\n",
       "      <td>M</td>\n",
       "      <td>20대</td>\n",
       "      <td>2</td>\n",
       "      <td>283.09</td>\n",
       "      <td>1.96</td>\n",
       "      <td>8410.0</td>\n",
       "      <td>46</td>\n",
       "    </tr>\n",
       "  </tbody>\n",
       "</table>\n",
       "<p>6447020 rows × 12 columns</p>\n",
       "</div>"
      ],
      "text/plain": [
       "               대여일자  대여시간  대여소번호                 대여소명 대여구분코드  성별 연령대코드  이용건수  \\\n",
       "0        2018-01-01     0    300                정동사거리    정기권   F  ~10대     1   \n",
       "1        2018-01-01     0    505       자양사거리 광진아크로텔 앞    정기권   F   20대     1   \n",
       "2        2018-01-01     0   1531          미아사거리 1번 출구    정기권   F   20대     1   \n",
       "3        2018-01-01     0    516              광진메디칼 앞    정기권   F   20대     1   \n",
       "4        2018-01-01     0   3508                화양사거리    정기권   F   20대     1   \n",
       "...             ...   ...    ...                  ...    ...  ..   ...   ...   \n",
       "6447015  2018-12-31    23   1623        1623. 노원 구민회관    일일권   M   30대     1   \n",
       "6447016  2018-12-31    23    394      394. 경희궁 자이 3단지    일일권   M   40대     1   \n",
       "6447017  2018-12-31    23    207    207. 여의나루역 1번출구 앞    단체권  \\N  ~10대     2   \n",
       "6447018  2018-12-31    23    338         338. 세운스퀘어 앞    단체권   F   30대     2   \n",
       "6447019  2018-12-31    23   1308  1308. 안암로터리 버스정류장 앞    단체권   M   20대     2   \n",
       "\n",
       "            운동량   탄소량     이동거리  이동시간  \n",
       "0         37.32  0.34   1450.0    23  \n",
       "1         54.83  0.49   2130.0    15  \n",
       "2         78.34  0.73   3140.0    17  \n",
       "3         29.95  0.29   1240.0     5  \n",
       "4         46.09  0.45   1940.0    43  \n",
       "...         ...   ...      ...   ...  \n",
       "6447015   38.00  0.23   1010.0     6  \n",
       "6447016   64.86  0.54   2340.0    26  \n",
       "6447017  786.85  4.61  19870.0   103  \n",
       "6447018   30.60  0.32   1380.0    14  \n",
       "6447019  283.09  1.96   8410.0    46  \n",
       "\n",
       "[6447020 rows x 12 columns]"
      ]
     },
     "execution_count": 6,
     "metadata": {},
     "output_type": "execute_result"
    }
   ],
   "source": [
    "DF.to_csv('./Data/따릉이이용정보(시간대별)_2018.csv', encoding='utf-8')\n",
    "DF"
   ]
  },
  {
   "cell_type": "code",
   "execution_count": 7,
   "id": "f0b17a23",
   "metadata": {},
   "outputs": [
    {
     "name": "stderr",
     "output_type": "stream",
     "text": [
      "100%|██████████████████████████████████████████████████████████████████████████████████| 12/12 [02:19<00:00, 11.62s/it]\n"
     ]
    }
   ],
   "source": [
    "DF = pd.DataFrame()\n",
    "year = ['19']\n",
    "for y in year:\n",
    "    for m in tqdm(range(1, 13)):\n",
    "        try:\n",
    "            mm = str(m).zfill(2)\n",
    "            temp = create_data(y, mm)\n",
    "            DF = pd.concat([DF, temp], ignore_index=True)\n",
    "        except:\n",
    "            print('에러'+y+mm)\n",
    "            pass"
   ]
  },
  {
   "cell_type": "code",
   "execution_count": 8,
   "id": "8f9a8dd3",
   "metadata": {},
   "outputs": [
    {
     "data": {
      "text/html": [
       "<div>\n",
       "<style scoped>\n",
       "    .dataframe tbody tr th:only-of-type {\n",
       "        vertical-align: middle;\n",
       "    }\n",
       "\n",
       "    .dataframe tbody tr th {\n",
       "        vertical-align: top;\n",
       "    }\n",
       "\n",
       "    .dataframe thead th {\n",
       "        text-align: right;\n",
       "    }\n",
       "</style>\n",
       "<table border=\"1\" class=\"dataframe\">\n",
       "  <thead>\n",
       "    <tr style=\"text-align: right;\">\n",
       "      <th></th>\n",
       "      <th>대여일자</th>\n",
       "      <th>대여시간</th>\n",
       "      <th>대여소번호</th>\n",
       "      <th>대여소명</th>\n",
       "      <th>대여구분코드</th>\n",
       "      <th>성별</th>\n",
       "      <th>연령대코드</th>\n",
       "      <th>이용건수</th>\n",
       "      <th>운동량</th>\n",
       "      <th>탄소량</th>\n",
       "      <th>이동거리</th>\n",
       "      <th>이동시간</th>\n",
       "    </tr>\n",
       "  </thead>\n",
       "  <tbody>\n",
       "    <tr>\n",
       "      <th>0</th>\n",
       "      <td>2019-01-01</td>\n",
       "      <td>0</td>\n",
       "      <td>458</td>\n",
       "      <td>458. 광화문역 5번출구</td>\n",
       "      <td>정기권</td>\n",
       "      <td>F</td>\n",
       "      <td>~10대</td>\n",
       "      <td>1</td>\n",
       "      <td>41.96</td>\n",
       "      <td>0.38</td>\n",
       "      <td>1630.0</td>\n",
       "      <td>29</td>\n",
       "    </tr>\n",
       "    <tr>\n",
       "      <th>1</th>\n",
       "      <td>2019-01-01</td>\n",
       "      <td>0</td>\n",
       "      <td>2159</td>\n",
       "      <td>2159. 인헌초교</td>\n",
       "      <td>정기권</td>\n",
       "      <td>F</td>\n",
       "      <td>20대</td>\n",
       "      <td>1</td>\n",
       "      <td>27.23</td>\n",
       "      <td>0.29</td>\n",
       "      <td>1250.0</td>\n",
       "      <td>7</td>\n",
       "    </tr>\n",
       "    <tr>\n",
       "      <th>2</th>\n",
       "      <td>2019-01-01</td>\n",
       "      <td>0</td>\n",
       "      <td>1362</td>\n",
       "      <td>1362. 보문역6번출구 앞</td>\n",
       "      <td>정기권</td>\n",
       "      <td>F</td>\n",
       "      <td>20대</td>\n",
       "      <td>1</td>\n",
       "      <td>20.18</td>\n",
       "      <td>0.23</td>\n",
       "      <td>980.0</td>\n",
       "      <td>5</td>\n",
       "    </tr>\n",
       "    <tr>\n",
       "      <th>3</th>\n",
       "      <td>2019-01-01</td>\n",
       "      <td>0</td>\n",
       "      <td>3106</td>\n",
       "      <td>3106. 홍남교 두바퀴쉼터</td>\n",
       "      <td>정기권</td>\n",
       "      <td>F</td>\n",
       "      <td>20대</td>\n",
       "      <td>1</td>\n",
       "      <td>7.48</td>\n",
       "      <td>0.1</td>\n",
       "      <td>420.0</td>\n",
       "      <td>4</td>\n",
       "    </tr>\n",
       "    <tr>\n",
       "      <th>4</th>\n",
       "      <td>2019-01-01</td>\n",
       "      <td>0</td>\n",
       "      <td>118</td>\n",
       "      <td>118. 광흥창역 2번출구 앞</td>\n",
       "      <td>정기권</td>\n",
       "      <td>F</td>\n",
       "      <td>20대</td>\n",
       "      <td>1</td>\n",
       "      <td>25.7</td>\n",
       "      <td>0.26</td>\n",
       "      <td>1100.0</td>\n",
       "      <td>7</td>\n",
       "    </tr>\n",
       "    <tr>\n",
       "      <th>...</th>\n",
       "      <td>...</td>\n",
       "      <td>...</td>\n",
       "      <td>...</td>\n",
       "      <td>...</td>\n",
       "      <td>...</td>\n",
       "      <td>...</td>\n",
       "      <td>...</td>\n",
       "      <td>...</td>\n",
       "      <td>...</td>\n",
       "      <td>...</td>\n",
       "      <td>...</td>\n",
       "      <td>...</td>\n",
       "    </tr>\n",
       "    <tr>\n",
       "      <th>14291354</th>\n",
       "      <td>2019-12-31</td>\n",
       "      <td>23</td>\n",
       "      <td>544</td>\n",
       "      <td>544. 광남중학교</td>\n",
       "      <td>단체권</td>\n",
       "      <td>NaN</td>\n",
       "      <td>~10대</td>\n",
       "      <td>4</td>\n",
       "      <td>340.36</td>\n",
       "      <td>3.12</td>\n",
       "      <td>13430.0</td>\n",
       "      <td>146</td>\n",
       "    </tr>\n",
       "    <tr>\n",
       "      <th>14291355</th>\n",
       "      <td>2019-12-31</td>\n",
       "      <td>23</td>\n",
       "      <td>337</td>\n",
       "      <td>337. 창경궁 입구</td>\n",
       "      <td>단체권</td>\n",
       "      <td>NaN</td>\n",
       "      <td>20대</td>\n",
       "      <td>2</td>\n",
       "      <td>106.35</td>\n",
       "      <td>0.87</td>\n",
       "      <td>3730.0</td>\n",
       "      <td>26</td>\n",
       "    </tr>\n",
       "    <tr>\n",
       "      <th>14291356</th>\n",
       "      <td>2019-12-31</td>\n",
       "      <td>23</td>\n",
       "      <td>428</td>\n",
       "      <td>428. 명보사거리</td>\n",
       "      <td>단체권</td>\n",
       "      <td>F</td>\n",
       "      <td>20대</td>\n",
       "      <td>2</td>\n",
       "      <td>77.82</td>\n",
       "      <td>0.91</td>\n",
       "      <td>3930.0</td>\n",
       "      <td>62</td>\n",
       "    </tr>\n",
       "    <tr>\n",
       "      <th>14291357</th>\n",
       "      <td>2019-12-31</td>\n",
       "      <td>23</td>\n",
       "      <td>1059</td>\n",
       "      <td>1059. 래미안 강동팰리스(102동)</td>\n",
       "      <td>단체권</td>\n",
       "      <td>M</td>\n",
       "      <td>~10대</td>\n",
       "      <td>2</td>\n",
       "      <td>179.67</td>\n",
       "      <td>1.62</td>\n",
       "      <td>6980.0</td>\n",
       "      <td>116</td>\n",
       "    </tr>\n",
       "    <tr>\n",
       "      <th>14291358</th>\n",
       "      <td>2019-12-31</td>\n",
       "      <td>23</td>\n",
       "      <td>1235</td>\n",
       "      <td>1235. 잠실트리지움310동 옆</td>\n",
       "      <td>단체권</td>\n",
       "      <td>M</td>\n",
       "      <td>20대</td>\n",
       "      <td>2</td>\n",
       "      <td>285.44</td>\n",
       "      <td>1.97</td>\n",
       "      <td>8480.0</td>\n",
       "      <td>107</td>\n",
       "    </tr>\n",
       "  </tbody>\n",
       "</table>\n",
       "<p>14291359 rows × 12 columns</p>\n",
       "</div>"
      ],
      "text/plain": [
       "                대여일자  대여시간  대여소번호                   대여소명 대여구분코드   성별 연령대코드  \\\n",
       "0         2019-01-01     0    458         458. 광화문역 5번출구    정기권    F  ~10대   \n",
       "1         2019-01-01     0   2159             2159. 인헌초교    정기권    F   20대   \n",
       "2         2019-01-01     0   1362        1362. 보문역6번출구 앞    정기권    F   20대   \n",
       "3         2019-01-01     0   3106        3106. 홍남교 두바퀴쉼터    정기권    F   20대   \n",
       "4         2019-01-01     0    118       118. 광흥창역 2번출구 앞    정기권    F   20대   \n",
       "...              ...   ...    ...                    ...    ...  ...   ...   \n",
       "14291354  2019-12-31    23    544             544. 광남중학교    단체권  NaN  ~10대   \n",
       "14291355  2019-12-31    23    337            337. 창경궁 입구    단체권  NaN   20대   \n",
       "14291356  2019-12-31    23    428             428. 명보사거리    단체권    F   20대   \n",
       "14291357  2019-12-31    23   1059  1059. 래미안 강동팰리스(102동)    단체권    M  ~10대   \n",
       "14291358  2019-12-31    23   1235     1235. 잠실트리지움310동 옆    단체권    M   20대   \n",
       "\n",
       "          이용건수     운동량   탄소량     이동거리  이동시간  \n",
       "0            1   41.96  0.38   1630.0    29  \n",
       "1            1   27.23  0.29   1250.0     7  \n",
       "2            1   20.18  0.23    980.0     5  \n",
       "3            1    7.48   0.1    420.0     4  \n",
       "4            1    25.7  0.26   1100.0     7  \n",
       "...        ...     ...   ...      ...   ...  \n",
       "14291354     4  340.36  3.12  13430.0   146  \n",
       "14291355     2  106.35  0.87   3730.0    26  \n",
       "14291356     2   77.82  0.91   3930.0    62  \n",
       "14291357     2  179.67  1.62   6980.0   116  \n",
       "14291358     2  285.44  1.97   8480.0   107  \n",
       "\n",
       "[14291359 rows x 12 columns]"
      ]
     },
     "execution_count": 8,
     "metadata": {},
     "output_type": "execute_result"
    }
   ],
   "source": [
    "DF.to_csv('./Data/따릉이이용정보(시간대별)_2019.csv', encoding='utf-8')\n",
    "DF"
   ]
  }
 ],
 "metadata": {
  "kernelspec": {
   "display_name": "Python 3 (ipykernel)",
   "language": "python",
   "name": "python3"
  },
  "language_info": {
   "codemirror_mode": {
    "name": "ipython",
    "version": 3
   },
   "file_extension": ".py",
   "mimetype": "text/x-python",
   "name": "python",
   "nbconvert_exporter": "python",
   "pygments_lexer": "ipython3",
   "version": "3.9.12"
  }
 },
 "nbformat": 4,
 "nbformat_minor": 5
}
