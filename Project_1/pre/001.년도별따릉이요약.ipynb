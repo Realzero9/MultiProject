{
 "cells": [
  {
   "cell_type": "code",
   "execution_count": 39,
   "id": "9dedf379",
   "metadata": {},
   "outputs": [],
   "source": [
    "import pandas as pd\n",
    "import numpy as np\n",
    "from tqdm import tqdm"
   ]
  },
  {
   "cell_type": "markdown",
   "id": "afd34923",
   "metadata": {},
   "source": [
    "- 2018년자료 엑셀 -> csv화"
   ]
  },
  {
   "cell_type": "code",
   "execution_count": 15,
   "id": "e35c23e6",
   "metadata": {},
   "outputs": [
    {
     "name": "stderr",
     "output_type": "stream",
     "text": [
      "100%|██████████████████████████████████████████████████████████████████████████████████| 11/11 [16:42<00:00, 91.16s/it]\n"
     ]
    }
   ],
   "source": [
    "for yy in range(18,19):\n",
    "\n",
    "    for mm in tqdm(range(1, 12)):\n",
    "        try:\n",
    "            yy_str = str(yy).zfill(2)\n",
    "            mm_str = str(mm).zfill(2)\n",
    "            temp = pd.read_excel('./Data/서울특별시 공공자전거 이용정보(시간대별)_20{0}년/서울특별시 공공자전거 이용정보(시간대별)_{0}.{1}.xlsx'.format(yy_str, mm_str), header=0)\n",
    "            temp.to_csv('./Data/서울특별시 공공자전거 이용정보(시간대별)_20{0}년/서울특별시 공공자전거 이용정보(시간대별)_{0}.{1}.csv'.format(yy_str, mm_str))\n",
    "\n",
    "        except:\n",
    "            print('err'+yy_str+mm_str)\n",
    "            pass"
   ]
  },
  {
   "cell_type": "markdown",
   "id": "803f40f4",
   "metadata": {},
   "source": [
    "- 함수: 각 csv파일 불러와서 한곳에 데이터프레임화\n",
    " - df 부분 # 필요한 컬럼으로 변경해서 사용"
   ]
  },
  {
   "cell_type": "code",
   "execution_count": 41,
   "id": "8c9236b6",
   "metadata": {},
   "outputs": [],
   "source": [
    "def creat_data(yy, mm):\n",
    "    file_path = './Data/서울특별시 공공자전거 이용정보(시간대별)_20{0}년/서울특별시 공공자전거 이용정보(시간대별)_{0}.{1}.csv'.format(yy,mm)\n",
    "    f = pd.read_csv(file_path)\n",
    "    \n",
    "    df = f[['대여일자', '대여시간', '대여소번호', '이용건수']]\n",
    "    \n",
    "    return(df)  "
   ]
  },
  {
   "cell_type": "markdown",
   "id": "4f9b9992",
   "metadata": {},
   "source": [
    "- 파일 모으기 : DF"
   ]
  },
  {
   "cell_type": "code",
   "execution_count": 42,
   "id": "35f6075b",
   "metadata": {
    "scrolled": false
   },
   "outputs": [
    {
     "name": "stderr",
     "output_type": "stream",
     "text": [
      "100%|██████████████████████████████████████████████████████████████████████████████████| 12/12 [00:10<00:00,  1.14it/s]\n",
      " 17%|█████████████▊                                                                     | 2/12 [00:01<00:05,  1.75it/s]C:\\Users\\sec\\AppData\\Local\\Temp\\ipykernel_14576\\1191457939.py:10: DtypeWarning: Columns (10,11) have mixed types.Specify dtype option on import or set low_memory=False.\n",
      "  temp = creat_data(yy, mm_str)\n",
      "100%|██████████████████████████████████████████████████████████████████████████████████| 12/12 [00:28<00:00,  2.35s/it]\n",
      "100%|██████████████████████████████████████████████████████████████████████████████████| 12/12 [00:36<00:00,  3.06s/it]\n",
      "100%|██████████████████████████████████████████████████████████████████████████████████| 12/12 [00:55<00:00,  4.60s/it]\n"
     ]
    }
   ],
   "source": [
    "DF = pd.DataFrame()\n",
    "\n",
    "year = ['18', '19', '20', '21']\n",
    "\n",
    "for yy in year:\n",
    "\n",
    "    for mm in tqdm(range(1, 13)):\n",
    "        try:\n",
    "            mm_str = str(mm).zfill(2)\n",
    "            temp = creat_data(yy, mm_str)\n",
    "            DF = DF.append(temp, ignore_index=True)\n",
    "\n",
    "        except:\n",
    "            print('err'+yy+mm)\n",
    "            pass"
   ]
  },
  {
   "cell_type": "code",
   "execution_count": 47,
   "id": "826d5a3b",
   "metadata": {},
   "outputs": [
    {
     "data": {
      "text/html": [
       "<div>\n",
       "<style scoped>\n",
       "    .dataframe tbody tr th:only-of-type {\n",
       "        vertical-align: middle;\n",
       "    }\n",
       "\n",
       "    .dataframe tbody tr th {\n",
       "        vertical-align: top;\n",
       "    }\n",
       "\n",
       "    .dataframe thead th {\n",
       "        text-align: right;\n",
       "    }\n",
       "</style>\n",
       "<table border=\"1\" class=\"dataframe\">\n",
       "  <thead>\n",
       "    <tr style=\"text-align: right;\">\n",
       "      <th></th>\n",
       "      <th>대여일자</th>\n",
       "      <th>대여시간</th>\n",
       "      <th>대여소번호</th>\n",
       "      <th>이용건수</th>\n",
       "    </tr>\n",
       "  </thead>\n",
       "  <tbody>\n",
       "    <tr>\n",
       "      <th>0</th>\n",
       "      <td>2018-01-01</td>\n",
       "      <td>0</td>\n",
       "      <td>300</td>\n",
       "      <td>1.0</td>\n",
       "    </tr>\n",
       "    <tr>\n",
       "      <th>1</th>\n",
       "      <td>2018-01-01</td>\n",
       "      <td>0</td>\n",
       "      <td>505</td>\n",
       "      <td>1.0</td>\n",
       "    </tr>\n",
       "    <tr>\n",
       "      <th>2</th>\n",
       "      <td>2018-01-01</td>\n",
       "      <td>0</td>\n",
       "      <td>1531</td>\n",
       "      <td>1.0</td>\n",
       "    </tr>\n",
       "    <tr>\n",
       "      <th>3</th>\n",
       "      <td>2018-01-01</td>\n",
       "      <td>0</td>\n",
       "      <td>516</td>\n",
       "      <td>1.0</td>\n",
       "    </tr>\n",
       "    <tr>\n",
       "      <th>4</th>\n",
       "      <td>2018-01-01</td>\n",
       "      <td>0</td>\n",
       "      <td>3508</td>\n",
       "      <td>1.0</td>\n",
       "    </tr>\n",
       "    <tr>\n",
       "      <th>...</th>\n",
       "      <td>...</td>\n",
       "      <td>...</td>\n",
       "      <td>...</td>\n",
       "      <td>...</td>\n",
       "    </tr>\n",
       "    <tr>\n",
       "      <th>65186222</th>\n",
       "      <td>2021-12-31</td>\n",
       "      <td>23</td>\n",
       "      <td>4561</td>\n",
       "      <td>1.0</td>\n",
       "    </tr>\n",
       "    <tr>\n",
       "      <th>65186223</th>\n",
       "      <td>2021-12-31</td>\n",
       "      <td>23</td>\n",
       "      <td>815</td>\n",
       "      <td>1.0</td>\n",
       "    </tr>\n",
       "    <tr>\n",
       "      <th>65186224</th>\n",
       "      <td>2021-12-31</td>\n",
       "      <td>23</td>\n",
       "      <td>2173</td>\n",
       "      <td>1.0</td>\n",
       "    </tr>\n",
       "    <tr>\n",
       "      <th>65186225</th>\n",
       "      <td>2021-12-31</td>\n",
       "      <td>23</td>\n",
       "      <td>2718</td>\n",
       "      <td>1.0</td>\n",
       "    </tr>\n",
       "    <tr>\n",
       "      <th>65186226</th>\n",
       "      <td>2021-12-31</td>\n",
       "      <td>23</td>\n",
       "      <td>4620</td>\n",
       "      <td>1.0</td>\n",
       "    </tr>\n",
       "  </tbody>\n",
       "</table>\n",
       "<p>65186227 rows × 4 columns</p>\n",
       "</div>"
      ],
      "text/plain": [
       "                대여일자  대여시간  대여소번호  이용건수\n",
       "0         2018-01-01     0    300   1.0\n",
       "1         2018-01-01     0    505   1.0\n",
       "2         2018-01-01     0   1531   1.0\n",
       "3         2018-01-01     0    516   1.0\n",
       "4         2018-01-01     0   3508   1.0\n",
       "...              ...   ...    ...   ...\n",
       "65186222  2021-12-31    23   4561   1.0\n",
       "65186223  2021-12-31    23    815   1.0\n",
       "65186224  2021-12-31    23   2173   1.0\n",
       "65186225  2021-12-31    23   2718   1.0\n",
       "65186226  2021-12-31    23   4620   1.0\n",
       "\n",
       "[65186227 rows x 4 columns]"
      ]
     },
     "execution_count": 47,
     "metadata": {},
     "output_type": "execute_result"
    }
   ],
   "source": [
    "DF"
   ]
  },
  {
   "cell_type": "markdown",
   "id": "ae4402f8",
   "metadata": {},
   "source": [
    "# 전처리"
   ]
  },
  {
   "cell_type": "markdown",
   "id": "7716fd64",
   "metadata": {},
   "source": [
    "- 대여일자 -> 월 변환"
   ]
  },
  {
   "cell_type": "code",
   "execution_count": 50,
   "id": "3874ccaa",
   "metadata": {},
   "outputs": [],
   "source": [
    "a = []\n",
    "b = DF['대여일자']"
   ]
  },
  {
   "cell_type": "code",
   "execution_count": 51,
   "id": "1cc35142",
   "metadata": {},
   "outputs": [
    {
     "name": "stderr",
     "output_type": "stream",
     "text": [
      "100%|██████████████████████████████████████████████████████████████████| 65186227/65186227 [03:14<00:00, 334985.11it/s]\n"
     ]
    }
   ],
   "source": [
    "for i in tqdm(range(0, len(DF))):\n",
    "    a.append(b[i][:7])"
   ]
  },
  {
   "cell_type": "code",
   "execution_count": 52,
   "id": "34e8a304",
   "metadata": {
    "scrolled": true
   },
   "outputs": [
    {
     "data": {
      "text/html": [
       "<div>\n",
       "<style scoped>\n",
       "    .dataframe tbody tr th:only-of-type {\n",
       "        vertical-align: middle;\n",
       "    }\n",
       "\n",
       "    .dataframe tbody tr th {\n",
       "        vertical-align: top;\n",
       "    }\n",
       "\n",
       "    .dataframe thead th {\n",
       "        text-align: right;\n",
       "    }\n",
       "</style>\n",
       "<table border=\"1\" class=\"dataframe\">\n",
       "  <thead>\n",
       "    <tr style=\"text-align: right;\">\n",
       "      <th></th>\n",
       "      <th>대여일자</th>\n",
       "      <th>대여시간</th>\n",
       "      <th>대여소번호</th>\n",
       "      <th>이용건수</th>\n",
       "      <th>월</th>\n",
       "    </tr>\n",
       "  </thead>\n",
       "  <tbody>\n",
       "    <tr>\n",
       "      <th>0</th>\n",
       "      <td>2018-01-01</td>\n",
       "      <td>0</td>\n",
       "      <td>300</td>\n",
       "      <td>1.0</td>\n",
       "      <td>2018-01</td>\n",
       "    </tr>\n",
       "    <tr>\n",
       "      <th>1</th>\n",
       "      <td>2018-01-01</td>\n",
       "      <td>0</td>\n",
       "      <td>505</td>\n",
       "      <td>1.0</td>\n",
       "      <td>2018-01</td>\n",
       "    </tr>\n",
       "    <tr>\n",
       "      <th>2</th>\n",
       "      <td>2018-01-01</td>\n",
       "      <td>0</td>\n",
       "      <td>1531</td>\n",
       "      <td>1.0</td>\n",
       "      <td>2018-01</td>\n",
       "    </tr>\n",
       "    <tr>\n",
       "      <th>3</th>\n",
       "      <td>2018-01-01</td>\n",
       "      <td>0</td>\n",
       "      <td>516</td>\n",
       "      <td>1.0</td>\n",
       "      <td>2018-01</td>\n",
       "    </tr>\n",
       "    <tr>\n",
       "      <th>4</th>\n",
       "      <td>2018-01-01</td>\n",
       "      <td>0</td>\n",
       "      <td>3508</td>\n",
       "      <td>1.0</td>\n",
       "      <td>2018-01</td>\n",
       "    </tr>\n",
       "    <tr>\n",
       "      <th>...</th>\n",
       "      <td>...</td>\n",
       "      <td>...</td>\n",
       "      <td>...</td>\n",
       "      <td>...</td>\n",
       "      <td>...</td>\n",
       "    </tr>\n",
       "    <tr>\n",
       "      <th>65186222</th>\n",
       "      <td>2021-12-31</td>\n",
       "      <td>23</td>\n",
       "      <td>4561</td>\n",
       "      <td>1.0</td>\n",
       "      <td>2021-12</td>\n",
       "    </tr>\n",
       "    <tr>\n",
       "      <th>65186223</th>\n",
       "      <td>2021-12-31</td>\n",
       "      <td>23</td>\n",
       "      <td>815</td>\n",
       "      <td>1.0</td>\n",
       "      <td>2021-12</td>\n",
       "    </tr>\n",
       "    <tr>\n",
       "      <th>65186224</th>\n",
       "      <td>2021-12-31</td>\n",
       "      <td>23</td>\n",
       "      <td>2173</td>\n",
       "      <td>1.0</td>\n",
       "      <td>2021-12</td>\n",
       "    </tr>\n",
       "    <tr>\n",
       "      <th>65186225</th>\n",
       "      <td>2021-12-31</td>\n",
       "      <td>23</td>\n",
       "      <td>2718</td>\n",
       "      <td>1.0</td>\n",
       "      <td>2021-12</td>\n",
       "    </tr>\n",
       "    <tr>\n",
       "      <th>65186226</th>\n",
       "      <td>2021-12-31</td>\n",
       "      <td>23</td>\n",
       "      <td>4620</td>\n",
       "      <td>1.0</td>\n",
       "      <td>2021-12</td>\n",
       "    </tr>\n",
       "  </tbody>\n",
       "</table>\n",
       "<p>65186227 rows × 5 columns</p>\n",
       "</div>"
      ],
      "text/plain": [
       "                대여일자  대여시간  대여소번호  이용건수        월\n",
       "0         2018-01-01     0    300   1.0  2018-01\n",
       "1         2018-01-01     0    505   1.0  2018-01\n",
       "2         2018-01-01     0   1531   1.0  2018-01\n",
       "3         2018-01-01     0    516   1.0  2018-01\n",
       "4         2018-01-01     0   3508   1.0  2018-01\n",
       "...              ...   ...    ...   ...      ...\n",
       "65186222  2021-12-31    23   4561   1.0  2021-12\n",
       "65186223  2021-12-31    23    815   1.0  2021-12\n",
       "65186224  2021-12-31    23   2173   1.0  2021-12\n",
       "65186225  2021-12-31    23   2718   1.0  2021-12\n",
       "65186226  2021-12-31    23   4620   1.0  2021-12\n",
       "\n",
       "[65186227 rows x 5 columns]"
      ]
     },
     "execution_count": 52,
     "metadata": {},
     "output_type": "execute_result"
    }
   ],
   "source": [
    "DF['월'] = np.array(a).reshape(-1,1)\n",
    "DF"
   ]
  },
  {
   "cell_type": "code",
   "execution_count": 53,
   "id": "779caff2",
   "metadata": {
    "scrolled": true
   },
   "outputs": [
    {
     "data": {
      "text/plain": [
       "대여일자     0\n",
       "대여시간     0\n",
       "대여소번호    0\n",
       "이용건수     0\n",
       "월        0\n",
       "dtype: int64"
      ]
     },
     "execution_count": 53,
     "metadata": {},
     "output_type": "execute_result"
    }
   ],
   "source": [
    "DF.isnull().sum()"
   ]
  },
  {
   "cell_type": "code",
   "execution_count": 58,
   "id": "aec1c3f1",
   "metadata": {},
   "outputs": [],
   "source": [
    "DF['이용건수'] = DF['이용건수'].astype('int')"
   ]
  },
  {
   "cell_type": "code",
   "execution_count": 59,
   "id": "cbfb3e63",
   "metadata": {
    "scrolled": true
   },
   "outputs": [
    {
     "data": {
      "text/html": [
       "<div>\n",
       "<style scoped>\n",
       "    .dataframe tbody tr th:only-of-type {\n",
       "        vertical-align: middle;\n",
       "    }\n",
       "\n",
       "    .dataframe tbody tr th {\n",
       "        vertical-align: top;\n",
       "    }\n",
       "\n",
       "    .dataframe thead th {\n",
       "        text-align: right;\n",
       "    }\n",
       "</style>\n",
       "<table border=\"1\" class=\"dataframe\">\n",
       "  <thead>\n",
       "    <tr style=\"text-align: right;\">\n",
       "      <th></th>\n",
       "      <th>대여일자</th>\n",
       "      <th>대여시간</th>\n",
       "      <th>대여소번호</th>\n",
       "      <th>이용건수</th>\n",
       "      <th>월</th>\n",
       "    </tr>\n",
       "  </thead>\n",
       "  <tbody>\n",
       "    <tr>\n",
       "      <th>0</th>\n",
       "      <td>2018-01-01</td>\n",
       "      <td>0</td>\n",
       "      <td>300</td>\n",
       "      <td>1</td>\n",
       "      <td>2018-01</td>\n",
       "    </tr>\n",
       "    <tr>\n",
       "      <th>1</th>\n",
       "      <td>2018-01-01</td>\n",
       "      <td>0</td>\n",
       "      <td>505</td>\n",
       "      <td>1</td>\n",
       "      <td>2018-01</td>\n",
       "    </tr>\n",
       "    <tr>\n",
       "      <th>2</th>\n",
       "      <td>2018-01-01</td>\n",
       "      <td>0</td>\n",
       "      <td>1531</td>\n",
       "      <td>1</td>\n",
       "      <td>2018-01</td>\n",
       "    </tr>\n",
       "    <tr>\n",
       "      <th>3</th>\n",
       "      <td>2018-01-01</td>\n",
       "      <td>0</td>\n",
       "      <td>516</td>\n",
       "      <td>1</td>\n",
       "      <td>2018-01</td>\n",
       "    </tr>\n",
       "    <tr>\n",
       "      <th>4</th>\n",
       "      <td>2018-01-01</td>\n",
       "      <td>0</td>\n",
       "      <td>3508</td>\n",
       "      <td>1</td>\n",
       "      <td>2018-01</td>\n",
       "    </tr>\n",
       "    <tr>\n",
       "      <th>...</th>\n",
       "      <td>...</td>\n",
       "      <td>...</td>\n",
       "      <td>...</td>\n",
       "      <td>...</td>\n",
       "      <td>...</td>\n",
       "    </tr>\n",
       "    <tr>\n",
       "      <th>65186222</th>\n",
       "      <td>2021-12-31</td>\n",
       "      <td>23</td>\n",
       "      <td>4561</td>\n",
       "      <td>1</td>\n",
       "      <td>2021-12</td>\n",
       "    </tr>\n",
       "    <tr>\n",
       "      <th>65186223</th>\n",
       "      <td>2021-12-31</td>\n",
       "      <td>23</td>\n",
       "      <td>815</td>\n",
       "      <td>1</td>\n",
       "      <td>2021-12</td>\n",
       "    </tr>\n",
       "    <tr>\n",
       "      <th>65186224</th>\n",
       "      <td>2021-12-31</td>\n",
       "      <td>23</td>\n",
       "      <td>2173</td>\n",
       "      <td>1</td>\n",
       "      <td>2021-12</td>\n",
       "    </tr>\n",
       "    <tr>\n",
       "      <th>65186225</th>\n",
       "      <td>2021-12-31</td>\n",
       "      <td>23</td>\n",
       "      <td>2718</td>\n",
       "      <td>1</td>\n",
       "      <td>2021-12</td>\n",
       "    </tr>\n",
       "    <tr>\n",
       "      <th>65186226</th>\n",
       "      <td>2021-12-31</td>\n",
       "      <td>23</td>\n",
       "      <td>4620</td>\n",
       "      <td>1</td>\n",
       "      <td>2021-12</td>\n",
       "    </tr>\n",
       "  </tbody>\n",
       "</table>\n",
       "<p>65186227 rows × 5 columns</p>\n",
       "</div>"
      ],
      "text/plain": [
       "                대여일자  대여시간  대여소번호  이용건수        월\n",
       "0         2018-01-01     0    300     1  2018-01\n",
       "1         2018-01-01     0    505     1  2018-01\n",
       "2         2018-01-01     0   1531     1  2018-01\n",
       "3         2018-01-01     0    516     1  2018-01\n",
       "4         2018-01-01     0   3508     1  2018-01\n",
       "...              ...   ...    ...   ...      ...\n",
       "65186222  2021-12-31    23   4561     1  2021-12\n",
       "65186223  2021-12-31    23    815     1  2021-12\n",
       "65186224  2021-12-31    23   2173     1  2021-12\n",
       "65186225  2021-12-31    23   2718     1  2021-12\n",
       "65186226  2021-12-31    23   4620     1  2021-12\n",
       "\n",
       "[65186227 rows x 5 columns]"
      ]
     },
     "execution_count": 59,
     "metadata": {},
     "output_type": "execute_result"
    }
   ],
   "source": [
    "DF"
   ]
  },
  {
   "cell_type": "markdown",
   "id": "06c7277f",
   "metadata": {},
   "source": [
    "# 저장"
   ]
  },
  {
   "cell_type": "code",
   "execution_count": 60,
   "id": "7e22b643",
   "metadata": {},
   "outputs": [],
   "source": [
    "DF.to_csv('./Data/전체따릉이요약.csv')"
   ]
  },
  {
   "cell_type": "code",
   "execution_count": null,
   "id": "ba9f63e7",
   "metadata": {},
   "outputs": [],
   "source": []
  }
 ],
 "metadata": {
  "kernelspec": {
   "display_name": "Python 3 (ipykernel)",
   "language": "python",
   "name": "python3"
  },
  "language_info": {
   "codemirror_mode": {
    "name": "ipython",
    "version": 3
   },
   "file_extension": ".py",
   "mimetype": "text/x-python",
   "name": "python",
   "nbconvert_exporter": "python",
   "pygments_lexer": "ipython3",
   "version": "3.9.7"
  }
 },
 "nbformat": 4,
 "nbformat_minor": 5
}
