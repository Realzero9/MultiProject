{
 "cells": [
  {
   "cell_type": "code",
   "execution_count": 2,
   "id": "3601488c",
   "metadata": {},
   "outputs": [],
   "source": [
    "import numpy as np\n",
    "import pandas as pd\n",
    "\n",
    "import scipy as sp\n",
    "import scipy.stats as stats\n",
    "\n",
    "import statsmodels.api as sm\n",
    "from statsmodels.formula.api import ols\n",
    "\n",
    "from sklearn.model_selection import train_test_split\n",
    "from sklearn.metrics import mean_squared_error, r2_score, mean_absolute_error\n",
    "\n",
    "import seaborn as sns\n",
    "import matplotlib.pyplot as plt\n",
    "import matplotlib.font_manager as fm\n",
    "\n",
    "plt.rc('font', family='Malgun Gothic')"
   ]
  },
  {
   "cell_type": "code",
   "execution_count": 4,
   "id": "c991a36e",
   "metadata": {},
   "outputs": [],
   "source": [
    "data = pd.read_excel('D:/따릉이/timeseries.xlsx')"
   ]
  },
  {
   "cell_type": "code",
   "execution_count": 5,
   "id": "3be8fbc0",
   "metadata": {},
   "outputs": [
    {
     "data": {
      "text/html": [
       "<div>\n",
       "<style scoped>\n",
       "    .dataframe tbody tr th:only-of-type {\n",
       "        vertical-align: middle;\n",
       "    }\n",
       "\n",
       "    .dataframe tbody tr th {\n",
       "        vertical-align: top;\n",
       "    }\n",
       "\n",
       "    .dataframe thead th {\n",
       "        text-align: right;\n",
       "    }\n",
       "</style>\n",
       "<table border=\"1\" class=\"dataframe\">\n",
       "  <thead>\n",
       "    <tr style=\"text-align: right;\">\n",
       "      <th></th>\n",
       "      <th>datetime</th>\n",
       "      <th>year</th>\n",
       "      <th>month</th>\n",
       "      <th>day</th>\n",
       "      <th>hour</th>\n",
       "      <th>count</th>\n",
       "      <th>holiday</th>\n",
       "      <th>dayofweek</th>\n",
       "      <th>season</th>\n",
       "      <th>weekday</th>\n",
       "    </tr>\n",
       "  </thead>\n",
       "  <tbody>\n",
       "    <tr>\n",
       "      <th>0</th>\n",
       "      <td>2018-01-01</td>\n",
       "      <td>2018</td>\n",
       "      <td>1</td>\n",
       "      <td>1</td>\n",
       "      <td>0</td>\n",
       "      <td>206</td>\n",
       "      <td>1</td>\n",
       "      <td>0</td>\n",
       "      <td>winter</td>\n",
       "      <td>1</td>\n",
       "    </tr>\n",
       "    <tr>\n",
       "      <th>1</th>\n",
       "      <td>2018-01-01</td>\n",
       "      <td>2018</td>\n",
       "      <td>1</td>\n",
       "      <td>1</td>\n",
       "      <td>1</td>\n",
       "      <td>230</td>\n",
       "      <td>1</td>\n",
       "      <td>0</td>\n",
       "      <td>winter</td>\n",
       "      <td>1</td>\n",
       "    </tr>\n",
       "    <tr>\n",
       "      <th>2</th>\n",
       "      <td>2018-01-01</td>\n",
       "      <td>2018</td>\n",
       "      <td>1</td>\n",
       "      <td>1</td>\n",
       "      <td>2</td>\n",
       "      <td>178</td>\n",
       "      <td>1</td>\n",
       "      <td>0</td>\n",
       "      <td>winter</td>\n",
       "      <td>1</td>\n",
       "    </tr>\n",
       "    <tr>\n",
       "      <th>3</th>\n",
       "      <td>2018-01-01</td>\n",
       "      <td>2018</td>\n",
       "      <td>1</td>\n",
       "      <td>1</td>\n",
       "      <td>3</td>\n",
       "      <td>119</td>\n",
       "      <td>1</td>\n",
       "      <td>0</td>\n",
       "      <td>winter</td>\n",
       "      <td>1</td>\n",
       "    </tr>\n",
       "    <tr>\n",
       "      <th>4</th>\n",
       "      <td>2018-01-01</td>\n",
       "      <td>2018</td>\n",
       "      <td>1</td>\n",
       "      <td>1</td>\n",
       "      <td>4</td>\n",
       "      <td>62</td>\n",
       "      <td>1</td>\n",
       "      <td>0</td>\n",
       "      <td>winter</td>\n",
       "      <td>1</td>\n",
       "    </tr>\n",
       "  </tbody>\n",
       "</table>\n",
       "</div>"
      ],
      "text/plain": [
       "    datetime  year  month  day  hour  count  holiday  dayofweek  season  \\\n",
       "0 2018-01-01  2018      1    1     0    206        1          0  winter   \n",
       "1 2018-01-01  2018      1    1     1    230        1          0  winter   \n",
       "2 2018-01-01  2018      1    1     2    178        1          0  winter   \n",
       "3 2018-01-01  2018      1    1     3    119        1          0  winter   \n",
       "4 2018-01-01  2018      1    1     4     62        1          0  winter   \n",
       "\n",
       "   weekday  \n",
       "0        1  \n",
       "1        1  \n",
       "2        1  \n",
       "3        1  \n",
       "4        1  "
      ]
     },
     "execution_count": 5,
     "metadata": {},
     "output_type": "execute_result"
    }
   ],
   "source": [
    "data.head()"
   ]
  },
  {
   "cell_type": "code",
   "execution_count": 6,
   "id": "65a2ec12",
   "metadata": {},
   "outputs": [],
   "source": [
    "feature_names = ['year','month','day','hour','holiday','dayofweek','season','weekday']\n"
   ]
  },
  {
   "cell_type": "code",
   "execution_count": 12,
   "id": "11e35e1d",
   "metadata": {},
   "outputs": [
    {
     "data": {
      "text/html": [
       "<div>\n",
       "<style scoped>\n",
       "    .dataframe tbody tr th:only-of-type {\n",
       "        vertical-align: middle;\n",
       "    }\n",
       "\n",
       "    .dataframe tbody tr th {\n",
       "        vertical-align: top;\n",
       "    }\n",
       "\n",
       "    .dataframe thead th {\n",
       "        text-align: right;\n",
       "    }\n",
       "</style>\n",
       "<table border=\"1\" class=\"dataframe\">\n",
       "  <thead>\n",
       "    <tr style=\"text-align: right;\">\n",
       "      <th></th>\n",
       "      <th>year</th>\n",
       "      <th>month</th>\n",
       "      <th>day</th>\n",
       "      <th>hour</th>\n",
       "      <th>holiday</th>\n",
       "      <th>dayofweek</th>\n",
       "      <th>season</th>\n",
       "      <th>weekday</th>\n",
       "    </tr>\n",
       "  </thead>\n",
       "  <tbody>\n",
       "    <tr>\n",
       "      <th>0</th>\n",
       "      <td>2018</td>\n",
       "      <td>1</td>\n",
       "      <td>1</td>\n",
       "      <td>0</td>\n",
       "      <td>1</td>\n",
       "      <td>0</td>\n",
       "      <td>winter</td>\n",
       "      <td>1</td>\n",
       "    </tr>\n",
       "    <tr>\n",
       "      <th>1</th>\n",
       "      <td>2018</td>\n",
       "      <td>1</td>\n",
       "      <td>1</td>\n",
       "      <td>1</td>\n",
       "      <td>1</td>\n",
       "      <td>0</td>\n",
       "      <td>winter</td>\n",
       "      <td>1</td>\n",
       "    </tr>\n",
       "    <tr>\n",
       "      <th>2</th>\n",
       "      <td>2018</td>\n",
       "      <td>1</td>\n",
       "      <td>1</td>\n",
       "      <td>2</td>\n",
       "      <td>1</td>\n",
       "      <td>0</td>\n",
       "      <td>winter</td>\n",
       "      <td>1</td>\n",
       "    </tr>\n",
       "    <tr>\n",
       "      <th>3</th>\n",
       "      <td>2018</td>\n",
       "      <td>1</td>\n",
       "      <td>1</td>\n",
       "      <td>3</td>\n",
       "      <td>1</td>\n",
       "      <td>0</td>\n",
       "      <td>winter</td>\n",
       "      <td>1</td>\n",
       "    </tr>\n",
       "    <tr>\n",
       "      <th>4</th>\n",
       "      <td>2018</td>\n",
       "      <td>1</td>\n",
       "      <td>1</td>\n",
       "      <td>4</td>\n",
       "      <td>1</td>\n",
       "      <td>0</td>\n",
       "      <td>winter</td>\n",
       "      <td>1</td>\n",
       "    </tr>\n",
       "  </tbody>\n",
       "</table>\n",
       "</div>"
      ],
      "text/plain": [
       "   year  month  day  hour  holiday  dayofweek  season  weekday\n",
       "0  2018      1    1     0        1          0  winter        1\n",
       "1  2018      1    1     1        1          0  winter        1\n",
       "2  2018      1    1     2        1          0  winter        1\n",
       "3  2018      1    1     3        1          0  winter        1\n",
       "4  2018      1    1     4        1          0  winter        1"
      ]
     },
     "execution_count": 12,
     "metadata": {},
     "output_type": "execute_result"
    }
   ],
   "source": [
    "X = pd.DataFrame(data, columns=feature_names)\n",
    "X.head()"
   ]
  },
  {
   "cell_type": "code",
   "execution_count": 18,
   "id": "9949e744",
   "metadata": {},
   "outputs": [
    {
     "data": {
      "text/html": [
       "<div>\n",
       "<style scoped>\n",
       "    .dataframe tbody tr th:only-of-type {\n",
       "        vertical-align: middle;\n",
       "    }\n",
       "\n",
       "    .dataframe tbody tr th {\n",
       "        vertical-align: top;\n",
       "    }\n",
       "\n",
       "    .dataframe thead th {\n",
       "        text-align: right;\n",
       "    }\n",
       "</style>\n",
       "<table border=\"1\" class=\"dataframe\">\n",
       "  <thead>\n",
       "    <tr style=\"text-align: right;\">\n",
       "      <th></th>\n",
       "      <th>year</th>\n",
       "      <th>month</th>\n",
       "      <th>day</th>\n",
       "      <th>hour</th>\n",
       "      <th>holiday</th>\n",
       "      <th>dayofweek</th>\n",
       "      <th>weekday</th>\n",
       "      <th>season</th>\n",
       "    </tr>\n",
       "  </thead>\n",
       "  <tbody>\n",
       "    <tr>\n",
       "      <th>0</th>\n",
       "      <td>2018</td>\n",
       "      <td>1</td>\n",
       "      <td>1</td>\n",
       "      <td>0</td>\n",
       "      <td>1</td>\n",
       "      <td>0</td>\n",
       "      <td>1</td>\n",
       "      <td>4</td>\n",
       "    </tr>\n",
       "    <tr>\n",
       "      <th>1</th>\n",
       "      <td>2018</td>\n",
       "      <td>1</td>\n",
       "      <td>1</td>\n",
       "      <td>1</td>\n",
       "      <td>1</td>\n",
       "      <td>0</td>\n",
       "      <td>1</td>\n",
       "      <td>4</td>\n",
       "    </tr>\n",
       "    <tr>\n",
       "      <th>2</th>\n",
       "      <td>2018</td>\n",
       "      <td>1</td>\n",
       "      <td>1</td>\n",
       "      <td>2</td>\n",
       "      <td>1</td>\n",
       "      <td>0</td>\n",
       "      <td>1</td>\n",
       "      <td>4</td>\n",
       "    </tr>\n",
       "    <tr>\n",
       "      <th>3</th>\n",
       "      <td>2018</td>\n",
       "      <td>1</td>\n",
       "      <td>1</td>\n",
       "      <td>3</td>\n",
       "      <td>1</td>\n",
       "      <td>0</td>\n",
       "      <td>1</td>\n",
       "      <td>4</td>\n",
       "    </tr>\n",
       "    <tr>\n",
       "      <th>4</th>\n",
       "      <td>2018</td>\n",
       "      <td>1</td>\n",
       "      <td>1</td>\n",
       "      <td>4</td>\n",
       "      <td>1</td>\n",
       "      <td>0</td>\n",
       "      <td>1</td>\n",
       "      <td>4</td>\n",
       "    </tr>\n",
       "  </tbody>\n",
       "</table>\n",
       "</div>"
      ],
      "text/plain": [
       "   year  month  day  hour  holiday  dayofweek  weekday  season\n",
       "0  2018      1    1     0        1          0        1       4\n",
       "1  2018      1    1     1        1          0        1       4\n",
       "2  2018      1    1     2        1          0        1       4\n",
       "3  2018      1    1     3        1          0        1       4\n",
       "4  2018      1    1     4        1          0        1       4"
      ]
     },
     "execution_count": 18,
     "metadata": {},
     "output_type": "execute_result"
    }
   ],
   "source": [
    "X.drop(columns=['season'], inplace=True)\n",
    "list = []\n",
    "for i in X['month']:\n",
    "    if i in [12,1,2]:\n",
    "        list.append(4)\n",
    "    elif i in [3,4,5]:\n",
    "        list.append(1)\n",
    "    elif i in [6,7,8]:\n",
    "        list.append(2)\n",
    "    else:\n",
    "        list.append(3)\n",
    "\n",
    "X['season'] = list\n",
    "X.head()"
   ]
  },
  {
   "cell_type": "code",
   "execution_count": 8,
   "id": "252de731",
   "metadata": {},
   "outputs": [
    {
     "data": {
      "text/html": [
       "<div>\n",
       "<style scoped>\n",
       "    .dataframe tbody tr th:only-of-type {\n",
       "        vertical-align: middle;\n",
       "    }\n",
       "\n",
       "    .dataframe tbody tr th {\n",
       "        vertical-align: top;\n",
       "    }\n",
       "\n",
       "    .dataframe thead th {\n",
       "        text-align: right;\n",
       "    }\n",
       "</style>\n",
       "<table border=\"1\" class=\"dataframe\">\n",
       "  <thead>\n",
       "    <tr style=\"text-align: right;\">\n",
       "      <th></th>\n",
       "      <th>count</th>\n",
       "    </tr>\n",
       "  </thead>\n",
       "  <tbody>\n",
       "    <tr>\n",
       "      <th>0</th>\n",
       "      <td>206</td>\n",
       "    </tr>\n",
       "    <tr>\n",
       "      <th>1</th>\n",
       "      <td>230</td>\n",
       "    </tr>\n",
       "    <tr>\n",
       "      <th>2</th>\n",
       "      <td>178</td>\n",
       "    </tr>\n",
       "    <tr>\n",
       "      <th>3</th>\n",
       "      <td>119</td>\n",
       "    </tr>\n",
       "    <tr>\n",
       "      <th>4</th>\n",
       "      <td>62</td>\n",
       "    </tr>\n",
       "  </tbody>\n",
       "</table>\n",
       "</div>"
      ],
      "text/plain": [
       "   count\n",
       "0    206\n",
       "1    230\n",
       "2    178\n",
       "3    119\n",
       "4     62"
      ]
     },
     "execution_count": 8,
     "metadata": {},
     "output_type": "execute_result"
    }
   ],
   "source": [
    "y = pd.DataFrame(data, columns=['count'])\n",
    "y.head()"
   ]
  },
  {
   "cell_type": "code",
   "execution_count": 19,
   "id": "41a541a6",
   "metadata": {},
   "outputs": [],
   "source": [
    "X_train, X_test, y_train, y_test = train_test_split(X,y,test_size=0.3)"
   ]
  },
  {
   "cell_type": "code",
   "execution_count": 20,
   "id": "9f6e75b5",
   "metadata": {},
   "outputs": [
    {
     "name": "stderr",
     "output_type": "stream",
     "text": [
      "C:\\Users\\sby04\\anaconda3\\lib\\site-packages\\statsmodels\\tsa\\tsatools.py:142: FutureWarning: In a future version of pandas all arguments of concat except for the argument 'objs' will be keyword-only\n",
      "  x = pd.concat(x[::order], 1)\n"
     ]
    }
   ],
   "source": [
    "X_train = sm.add_constant(X_train)\n",
    "model = sm.OLS(y_train, X_train, axis=1)\n",
    "model_trained = model.fit()"
   ]
  },
  {
   "cell_type": "code",
   "execution_count": 22,
   "id": "bce103fe",
   "metadata": {},
   "outputs": [
    {
     "name": "stderr",
     "output_type": "stream",
     "text": [
      "C:\\Users\\sby04\\anaconda3\\lib\\site-packages\\statsmodels\\graphics\\gofplots.py:993: UserWarning: marker is redundantly defined by the 'marker' keyword argument and the fmt string \"bo\" (-> marker='o'). The keyword argument will take precedence.\n",
      "  ax.plot(x, y, fmt, **plot_style)\n",
      "C:\\Users\\sby04\\anaconda3\\lib\\site-packages\\statsmodels\\graphics\\gofplots.py:993: UserWarning: color is redundantly defined by the 'color' keyword argument and the fmt string \"bo\" (-> color='b'). The keyword argument will take precedence.\n",
      "  ax.plot(x, y, fmt, **plot_style)\n"
     ]
    },
    {
     "data": {
      "image/png": "[encoded data removed]",
      "text/plain": [
       "<Figure size 864x864 with 1 Axes>"
      ]
     },
     "metadata": {
      "needs_background": "light"
     },
     "output_type": "display_data"
    }
   ],
   "source": [
    "# 확률오차의 정규성 확인\n",
    "\n",
    "model_residuals = model_trained.resid\n",
    "\n",
    "plt.rcParams['axes.unicode_minus'] = False\n",
    "fig, ax = plt.subplots(1,1)\n",
    "fig.set_figheight(12)\n",
    "fig.set_figwidth(12)\n",
    "\n",
    "sm.ProbPlot(model_residuals).qqplot(line='s', color='b', ax=ax)\n",
    "ax.title.set_text('QQplot')"
   ]
  },
  {
   "cell_type": "code",
   "execution_count": 26,
   "id": "19671773",
   "metadata": {},
   "outputs": [
    {
     "name": "stderr",
     "output_type": "stream",
     "text": [
      "C:\\Users\\sby04\\anaconda3\\lib\\site-packages\\seaborn\\_decorators.py:36: FutureWarning: Pass the following variables as keyword args: x, y. From version 0.12, the only valid positional argument will be `data`, and passing other arguments without an explicit keyword will result in an error or misinterpretation.\n",
      "  warnings.warn(\n"
     ]
    },
    {
     "data": {
      "text/plain": [
       "[Text(0.5, 0, 'Fitted values'), Text(0, 0.5, 'Residuals')]"
      ]
     },
     "execution_count": 26,
     "metadata": {},
     "output_type": "execute_result"
    },
    {
     "data": {
      "image/png": "[encoded data removed]",
      "text/plain": [
       "<Figure size 864x576 with 1 Axes>"
      ]
     },
     "metadata": {
      "needs_background": "light"
     },
     "output_type": "display_data"
    }
   ],
   "source": [
    "# 확률오차의 등분산성 확인\n",
    "\n",
    "model_fitted_y = model_trained.fittedvalues\n",
    "\n",
    "fig, ax = plt.subplots(1,1)\n",
    "fig.set_figheight(8)\n",
    "fig.set_figwidth(12)\n",
    "\n",
    "sns.residplot(model_fitted_y, y_train, data=X_train, lowess=True, scatter_kws={'alpha':0.5},\n",
    "             line_kws={'color':'red'}, ax=ax)\n",
    "ax.title.set_text('Residuals vs Fitted')\n",
    "ax.set(xlabel='Fitted values', ylabel='Residuals')"
   ]
  },
  {
   "cell_type": "code",
   "execution_count": 27,
   "id": "a631243a",
   "metadata": {},
   "outputs": [
    {
     "name": "stdout",
     "output_type": "stream",
     "text": [
      "                            OLS Regression Results                            \n",
      "==============================================================================\n",
      "Dep. Variable:                  count   R-squared:                       0.427\n",
      "Model:                            OLS   Adj. R-squared:                  0.426\n",
      "Method:                 Least Squares   F-statistic:                     2233.\n",
      "Date:                Tue, 01 Mar 2022   Prob (F-statistic):               0.00\n",
      "Time:                        19:38:59   Log-Likelihood:            -2.0771e+05\n",
      "No. Observations:               24014   AIC:                         4.154e+05\n",
      "Df Residuals:                   24005   BIC:                         4.155e+05\n",
      "Df Model:                           8                                         \n",
      "Covariance Type:            nonrobust                                         \n",
      "==============================================================================\n",
      "                 coef    std err          t      P>|t|      [0.025      0.975]\n",
      "------------------------------------------------------------------------------\n",
      "const      -1.415e+06   1.62e+04    -87.466      0.000   -1.45e+06   -1.38e+06\n",
      "year         700.9462      8.011     87.494      0.000     685.243     716.649\n",
      "month        117.6354      2.630     44.735      0.000     112.481     122.790\n",
      "day            1.3488      1.022      1.320      0.187      -0.654       3.351\n",
      "hour         104.9789      1.284     81.754      0.000     102.462     107.496\n",
      "holiday     -154.8485     45.154     -3.429      0.001    -243.354     -66.343\n",
      "dayofweek     27.2805      7.265      3.755      0.000      13.041      41.520\n",
      "weekday      321.5652     32.256      9.969      0.000     258.341     384.789\n",
      "season      -361.5950      8.132    -44.466      0.000    -377.534    -345.656\n",
      "==============================================================================\n",
      "Omnibus:                     6556.284   Durbin-Watson:                   2.001\n",
      "Prob(Omnibus):                  0.000   Jarque-Bera (JB):            41997.684\n",
      "Skew:                           1.157   Prob(JB):                         0.00\n",
      "Kurtosis:                       9.051   Cond. No.                     3.67e+06\n",
      "==============================================================================\n",
      "\n",
      "Notes:\n",
      "[1] Standard Errors assume that the covariance matrix of the errors is correctly specified.\n",
      "[2] The condition number is large, 3.67e+06. This might indicate that there are\n",
      "strong multicollinearity or other numerical problems.\n"
     ]
    }
   ],
   "source": [
    "print(model_trained.summary())"
   ]
  },
  {
   "cell_type": "code",
   "execution_count": 29,
   "id": "83cda2d4",
   "metadata": {},
   "outputs": [
    {
     "name": "stdout",
     "output_type": "stream",
     "text": [
      "                            OLS Regression Results                            \n",
      "==============================================================================\n",
      "Dep. Variable:                  count   R-squared:                       0.427\n",
      "Model:                            OLS   Adj. R-squared:                  0.426\n",
      "Method:                 Least Squares   F-statistic:                     2552.\n",
      "Date:                Tue, 01 Mar 2022   Prob (F-statistic):               0.00\n",
      "Time:                        19:42:21   Log-Likelihood:            -2.0771e+05\n",
      "No. Observations:               24014   AIC:                         4.154e+05\n",
      "Df Residuals:                   24006   BIC:                         4.155e+05\n",
      "Df Model:                           7                                         \n",
      "Covariance Type:            nonrobust                                         \n",
      "==============================================================================\n",
      "                 coef    std err          t      P>|t|      [0.025      0.975]\n",
      "------------------------------------------------------------------------------\n",
      "const      -1.415e+06   1.62e+04    -87.455      0.000   -1.45e+06   -1.38e+06\n",
      "year         700.7583      8.010     87.483      0.000     685.058     716.459\n",
      "month        117.7198      2.629     44.780      0.000     112.567     122.872\n",
      "hour         104.9682      1.284     81.746      0.000     102.451     107.485\n",
      "holiday     -159.8489     44.996     -3.553      0.000    -248.044     -71.654\n",
      "dayofweek     27.2685      7.265      3.753      0.000      13.029      41.508\n",
      "weekday      321.5325     32.257      9.968      0.000     258.307     384.758\n",
      "season      -361.5684      8.132    -44.462      0.000    -377.508    -345.629\n",
      "==============================================================================\n",
      "Omnibus:                     6548.540   Durbin-Watson:                   2.001\n",
      "Prob(Omnibus):                  0.000   Jarque-Bera (JB):            41899.513\n",
      "Skew:                           1.156   Prob(JB):                         0.00\n",
      "Kurtosis:                       9.044   Cond. No.                     3.67e+06\n",
      "==============================================================================\n",
      "\n",
      "Notes:\n",
      "[1] Standard Errors assume that the covariance matrix of the errors is correctly specified.\n",
      "[2] The condition number is large, 3.67e+06. This might indicate that there are\n",
      "strong multicollinearity or other numerical problems.\n"
     ]
    }
   ],
   "source": [
    "model = sm.OLS(y_train, X_train.drop(['day'], axis=1))\n",
    "model_trained = model.fit()\n",
    "print(model_trained.summary())"
   ]
  },
  {
   "cell_type": "code",
   "execution_count": 38,
   "id": "194376a7",
   "metadata": {},
   "outputs": [
    {
     "data": {
      "image/png": "[encoded data removed]",
      "text/plain": [
       "<Figure size 576x576 with 1 Axes>"
      ]
     },
     "metadata": {
      "needs_background": "light"
     },
     "output_type": "display_data"
    }
   ],
   "source": [
    "#예측하기\n",
    "\n",
    "y_train_pred = model_trained.fittedvalues\n",
    "\n",
    "plt.figure(figsize=(8,8))\n",
    "plt.title('실제값 vs. 모델출력값')\n",
    "plt.scatter(y_train, y_train_pred)\n",
    "plt.plot([0,20000],[-2000,4000],ls='--',c='red')\n",
    "plt.xlabel('실제값', size=16)\n",
    "plt.ylabel('모델출력값', size=16)\n",
    "plt.show()"
   ]
  },
  {
   "cell_type": "code",
   "execution_count": 39,
   "id": "fac26bc4",
   "metadata": {},
   "outputs": [
    {
     "name": "stderr",
     "output_type": "stream",
     "text": [
      "C:\\Users\\sby04\\anaconda3\\lib\\site-packages\\statsmodels\\tsa\\tsatools.py:142: FutureWarning: In a future version of pandas all arguments of concat except for the argument 'objs' will be keyword-only\n",
      "  x = pd.concat(x[::order], 1)\n"
     ]
    }
   ],
   "source": [
    "X_test = sm.add_constant(X_test)"
   ]
  },
  {
   "cell_type": "code",
   "execution_count": 41,
   "id": "ac9b575d",
   "metadata": {},
   "outputs": [
    {
     "data": {
      "text/plain": [
       "16412     279.142029\n",
       "28011    3793.255855\n",
       "25444    1267.536562\n",
       "10255    1746.656296\n",
       "27447    2703.553400\n",
       "dtype: float64"
      ]
     },
     "execution_count": 41,
     "metadata": {},
     "output_type": "execute_result"
    }
   ],
   "source": [
    "y_test_pred = model_trained.predict(X_test.drop(['day'], axis=1))\n",
    "y_test_pred.head()"
   ]
  },
  {
   "cell_type": "code",
   "execution_count": 42,
   "id": "ffb92a02",
   "metadata": {},
   "outputs": [
    {
     "name": "stdout",
     "output_type": "stream",
     "text": [
      "1911422.4093628498\n"
     ]
    }
   ],
   "source": [
    "#평균제곱오차\n",
    "print(mean_squared_error(y_test, y_test_pred))"
   ]
  },
  {
   "cell_type": "code",
   "execution_count": 43,
   "id": "f62efc02",
   "metadata": {},
   "outputs": [
    {
     "name": "stdout",
     "output_type": "stream",
     "text": [
      "1382.5420099811975\n"
     ]
    }
   ],
   "source": [
    "#제곱근 평균제곱오차\n",
    "print(np.sqrt(mean_squared_error(y_test,y_test_pred)))"
   ]
  },
  {
   "cell_type": "code",
   "execution_count": 44,
   "id": "9423fcc1",
   "metadata": {},
   "outputs": [
    {
     "name": "stdout",
     "output_type": "stream",
     "text": [
      "1008.7360451016865\n"
     ]
    }
   ],
   "source": [
    "#평균 절대 오차\n",
    "print(mean_absolute_error(y_test,y_test_pred))"
   ]
  },
  {
   "cell_type": "code",
   "execution_count": 46,
   "id": "fdced1a6",
   "metadata": {},
   "outputs": [
    {
     "name": "stdout",
     "output_type": "stream",
     "text": [
      "191318.81751663398\n"
     ]
    }
   ],
   "source": [
    "def mean_absolute_percentage_error(y_true, y_pred):\n",
    "    y_true, y_pred = np.array(y_true), np.array(y_pred)\n",
    "    return np.mean(np.abs((y_true-y_pred/y_true))*100)\n",
    "\n",
    "print(mean_absolute_percentage_error(y_test, y_test_pred))"
   ]
  },
  {
   "cell_type": "code",
   "execution_count": 47,
   "id": "4d78400c",
   "metadata": {},
   "outputs": [],
   "source": [
    "#결정계수"
   ]
  },
  {
   "cell_type": "code",
   "execution_count": 48,
   "id": "108183f7",
   "metadata": {},
   "outputs": [
    {
     "name": "stdout",
     "output_type": "stream",
     "text": [
      "0.4259042202850766\n"
     ]
    }
   ],
   "source": [
    "print(r2_score(y_test, y_test_pred))"
   ]
  },
  {
   "cell_type": "code",
   "execution_count": 49,
   "id": "c7ac077a",
   "metadata": {},
   "outputs": [
    {
     "name": "stdout",
     "output_type": "stream",
     "text": [
      "Training MSE:1907101.745\n",
      "Training RMSE:1380.979\n",
      "Training MAE:994.230\n",
      "Training MAPE:185746.355\n",
      "Training R2:0.427\n"
     ]
    }
   ],
   "source": [
    "#결과정리\n",
    "print('Training MSE:{:.3f}'.format(mean_squared_error(y_train, y_train_pred)))\n",
    "print('Training RMSE:{:.3f}'.format(np.sqrt(mean_squared_error(y_train, y_train_pred))))\n",
    "print('Training MAE:{:.3f}'.format(mean_absolute_error(y_train, y_train_pred)))\n",
    "print('Training MAPE:{:.3f}'.format(mean_absolute_percentage_error(y_train, y_train_pred)))\n",
    "print('Training R2:{:.3f}'.format(r2_score(y_train, y_train_pred)))"
   ]
  },
  {
   "cell_type": "code",
   "execution_count": 50,
   "id": "f45d0f79",
   "metadata": {},
   "outputs": [
    {
     "name": "stdout",
     "output_type": "stream",
     "text": [
      "Testing MSE:1911422.409\n",
      "Testing RMSE:1382.542\n",
      "Testing MAE:1008.736\n",
      "Testing MAPE:191318.818\n",
      "Testing R2:0.426\n"
     ]
    }
   ],
   "source": [
    "print('Testing MSE:{:.3f}'.format(mean_squared_error(y_test, y_test_pred)))\n",
    "print('Testing RMSE:{:.3f}'.format(np.sqrt(mean_squared_error(y_test, y_test_pred))))\n",
    "print('Testing MAE:{:.3f}'.format(mean_absolute_error(y_test, y_test_pred)))\n",
    "print('Testing MAPE:{:.3f}'.format(mean_absolute_percentage_error(y_test, y_test_pred)))\n",
    "print('Testing R2:{:.3f}'.format(r2_score(y_test, y_test_pred)))"
   ]
  },
  {
   "cell_type": "code",
   "execution_count": null,
   "id": "4b4dfc67",
   "metadata": {},
   "outputs": [],
   "source": []
  },
  {
   "cell_type": "code",
   "execution_count": 52,
   "id": "2a0bc7a0",
   "metadata": {},
   "outputs": [],
   "source": [
    "from sklearn.linear_model import LinearRegression\n",
    "import statsmodels.api as sm"
   ]
  },
  {
   "cell_type": "code",
   "execution_count": 53,
   "id": "680a190c",
   "metadata": {},
   "outputs": [],
   "source": [
    "lr_skl = LinearRegression(fit_intercept=False)\n",
    "lr_skl.fit(X_train, y_train)\n",
    "y_pred_skl = lr_skl.predict(X_test)\n",
    "\n",
    "lr_stat = sm.OLS(y_train, X_train).fit()\n",
    "y_pred_stat = lr_stat.predict(X_test)"
   ]
  },
  {
   "cell_type": "code",
   "execution_count": 54,
   "id": "361b5d1e",
   "metadata": {},
   "outputs": [
    {
     "name": "stdout",
     "output_type": "stream",
     "text": [
      "Testing MSE:1910939.758\n",
      "Testing RMSE:1382.367\n",
      "Testing MAE:1008.499\n",
      "Testing MAPE:191318.813\n",
      "Testing R2:0.426\n"
     ]
    }
   ],
   "source": [
    "test_mse_stat = mean_squared_error(y_test, y_pred_stat)\n",
    "test_rmse_stat = np.sqrt(mean_squared_error(y_test, y_pred_stat))\n",
    "test_mae_stat = mean_absolute_error(y_test, y_pred_stat)\n",
    "test_mape_stat = mean_absolute_percentage_error(y_test, y_pred_stat)\n",
    "test_r2_stat = r2_score(y_test, y_pred_stat)\n",
    "\n",
    "print('Testing MSE:{:.3f}'.format(test_mse_stat))\n",
    "print('Testing RMSE:{:.3f}'.format(test_rmse_stat))\n",
    "print('Testing MAE:{:.3f}'.format(test_mae_stat))\n",
    "print('Testing MAPE:{:.3f}'.format(test_mape_stat))\n",
    "print('Testing R2:{:.3f}'.format(test_r2_stat))"
   ]
  },
  {
   "cell_type": "code",
   "execution_count": 55,
   "id": "0b336f06",
   "metadata": {},
   "outputs": [
    {
     "name": "stdout",
     "output_type": "stream",
     "text": [
      "Testing MSE:1910939.758\n",
      "Testing RMSE:1382.367\n",
      "Testing MAE:1008.499\n",
      "Testing MAPE:191398.447\n",
      "Testing R2:0.426\n"
     ]
    }
   ],
   "source": [
    "test_mse_skl = mean_squared_error(y_test, y_pred_skl)\n",
    "test_rmse_skl = np.sqrt(mean_squared_error(y_test, y_pred_skl))\n",
    "test_mae_skl = mean_absolute_error(y_test, y_pred_skl)\n",
    "test_mape_skl = mean_absolute_percentage_error(y_test, y_pred_skl)\n",
    "test_r2_skl = r2_score(y_test, y_pred_skl)\n",
    "\n",
    "print('Testing MSE:{:.3f}'.format(test_mse_skl))\n",
    "print('Testing RMSE:{:.3f}'.format(test_rmse_skl))\n",
    "print('Testing MAE:{:.3f}'.format(test_mae_skl))\n",
    "print('Testing MAPE:{:.3f}'.format(test_mape_skl))\n",
    "print('Testing R2:{:.3f}'.format(test_r2_skl))"
   ]
  },
  {
   "cell_type": "code",
   "execution_count": 56,
   "id": "adaacc84",
   "metadata": {},
   "outputs": [
    {
     "data": {
      "text/html": [
       "<div>\n",
       "<style scoped>\n",
       "    .dataframe tbody tr th:only-of-type {\n",
       "        vertical-align: middle;\n",
       "    }\n",
       "\n",
       "    .dataframe tbody tr th {\n",
       "        vertical-align: top;\n",
       "    }\n",
       "\n",
       "    .dataframe thead th {\n",
       "        text-align: right;\n",
       "    }\n",
       "</style>\n",
       "<table border=\"1\" class=\"dataframe\">\n",
       "  <thead>\n",
       "    <tr style=\"text-align: right;\">\n",
       "      <th></th>\n",
       "      <th>year</th>\n",
       "      <th>month</th>\n",
       "      <th>day</th>\n",
       "      <th>hour</th>\n",
       "      <th>holiday</th>\n",
       "      <th>dayofweek</th>\n",
       "      <th>weekday</th>\n",
       "      <th>season</th>\n",
       "    </tr>\n",
       "  </thead>\n",
       "  <tbody>\n",
       "    <tr>\n",
       "      <th>year</th>\n",
       "      <td>1.000000</td>\n",
       "      <td>0.024403</td>\n",
       "      <td>-0.017696</td>\n",
       "      <td>-0.000962</td>\n",
       "      <td>0.005204</td>\n",
       "      <td>0.000927</td>\n",
       "      <td>0.003220</td>\n",
       "      <td>0.017039</td>\n",
       "    </tr>\n",
       "    <tr>\n",
       "      <th>month</th>\n",
       "      <td>0.024403</td>\n",
       "      <td>1.000000</td>\n",
       "      <td>0.025061</td>\n",
       "      <td>0.000822</td>\n",
       "      <td>-0.026185</td>\n",
       "      <td>-0.000395</td>\n",
       "      <td>-0.001261</td>\n",
       "      <td>0.196307</td>\n",
       "    </tr>\n",
       "    <tr>\n",
       "      <th>day</th>\n",
       "      <td>-0.017696</td>\n",
       "      <td>0.025061</td>\n",
       "      <td>1.000000</td>\n",
       "      <td>0.000117</td>\n",
       "      <td>-0.084021</td>\n",
       "      <td>0.000067</td>\n",
       "      <td>0.000214</td>\n",
       "      <td>-0.002332</td>\n",
       "    </tr>\n",
       "    <tr>\n",
       "      <th>hour</th>\n",
       "      <td>-0.000962</td>\n",
       "      <td>0.000822</td>\n",
       "      <td>0.000117</td>\n",
       "      <td>1.000000</td>\n",
       "      <td>0.000032</td>\n",
       "      <td>0.000416</td>\n",
       "      <td>-0.000807</td>\n",
       "      <td>0.000483</td>\n",
       "    </tr>\n",
       "    <tr>\n",
       "      <th>holiday</th>\n",
       "      <td>0.005204</td>\n",
       "      <td>-0.026185</td>\n",
       "      <td>-0.084021</td>\n",
       "      <td>0.000032</td>\n",
       "      <td>1.000000</td>\n",
       "      <td>0.023268</td>\n",
       "      <td>-0.009248</td>\n",
       "      <td>0.054824</td>\n",
       "    </tr>\n",
       "    <tr>\n",
       "      <th>dayofweek</th>\n",
       "      <td>0.000927</td>\n",
       "      <td>-0.000395</td>\n",
       "      <td>0.000067</td>\n",
       "      <td>0.000416</td>\n",
       "      <td>0.023268</td>\n",
       "      <td>1.000000</td>\n",
       "      <td>-0.789489</td>\n",
       "      <td>-0.006533</td>\n",
       "    </tr>\n",
       "    <tr>\n",
       "      <th>weekday</th>\n",
       "      <td>0.003220</td>\n",
       "      <td>-0.001261</td>\n",
       "      <td>0.000214</td>\n",
       "      <td>-0.000807</td>\n",
       "      <td>-0.009248</td>\n",
       "      <td>-0.789489</td>\n",
       "      <td>1.000000</td>\n",
       "      <td>0.004693</td>\n",
       "    </tr>\n",
       "    <tr>\n",
       "      <th>season</th>\n",
       "      <td>0.017039</td>\n",
       "      <td>0.196307</td>\n",
       "      <td>-0.002332</td>\n",
       "      <td>0.000483</td>\n",
       "      <td>0.054824</td>\n",
       "      <td>-0.006533</td>\n",
       "      <td>0.004693</td>\n",
       "      <td>1.000000</td>\n",
       "    </tr>\n",
       "  </tbody>\n",
       "</table>\n",
       "</div>"
      ],
      "text/plain": [
       "               year     month       day      hour   holiday  dayofweek  \\\n",
       "year       1.000000  0.024403 -0.017696 -0.000962  0.005204   0.000927   \n",
       "month      0.024403  1.000000  0.025061  0.000822 -0.026185  -0.000395   \n",
       "day       -0.017696  0.025061  1.000000  0.000117 -0.084021   0.000067   \n",
       "hour      -0.000962  0.000822  0.000117  1.000000  0.000032   0.000416   \n",
       "holiday    0.005204 -0.026185 -0.084021  0.000032  1.000000   0.023268   \n",
       "dayofweek  0.000927 -0.000395  0.000067  0.000416  0.023268   1.000000   \n",
       "weekday    0.003220 -0.001261  0.000214 -0.000807 -0.009248  -0.789489   \n",
       "season     0.017039  0.196307 -0.002332  0.000483  0.054824  -0.006533   \n",
       "\n",
       "            weekday    season  \n",
       "year       0.003220  0.017039  \n",
       "month     -0.001261  0.196307  \n",
       "day        0.000214 -0.002332  \n",
       "hour      -0.000807  0.000483  \n",
       "holiday   -0.009248  0.054824  \n",
       "dayofweek -0.789489 -0.006533  \n",
       "weekday    1.000000  0.004693  \n",
       "season     0.004693  1.000000  "
      ]
     },
     "execution_count": 56,
     "metadata": {},
     "output_type": "execute_result"
    }
   ],
   "source": [
    "X.corr()"
   ]
  },
  {
   "cell_type": "code",
   "execution_count": null,
   "id": "d5d84f3b",
   "metadata": {},
   "outputs": [],
   "source": []
  },
  {
   "cell_type": "code",
   "execution_count": null,
   "id": "aa5ca575",
   "metadata": {},
   "outputs": [],
   "source": []
  },
  {
   "cell_type": "code",
   "execution_count": null,
   "id": "556b4398",
   "metadata": {},
   "outputs": [],
   "source": []
  }
 ],
 "metadata": {
  "kernelspec": {
   "display_name": "Python 3 (ipykernel)",
   "language": "python",
   "name": "python3"
  },
  "language_info": {
   "codemirror_mode": {
    "name": "ipython",
    "version": 3
   },
   "file_extension": ".py",
   "mimetype": "text/x-python",
   "name": "python",
   "nbconvert_exporter": "python",
   "pygments_lexer": "ipython3",
   "version": "3.9.7"
  }
 },
 "nbformat": 4,
 "nbformat_minor": 5
}
