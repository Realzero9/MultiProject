{
 "cells": [
  {
   "cell_type": "code",
   "execution_count": 1,
   "id": "7a214118",
   "metadata": {},
   "outputs": [],
   "source": [
    "import pandas as pd\n",
    "import numpy as np\n",
    "from tqdm import tqdm"
   ]
  },
  {
   "cell_type": "code",
   "execution_count": 2,
   "id": "a695f384",
   "metadata": {},
   "outputs": [],
   "source": [
    "A = pd.read_excel('./Data/가공완료/[따릉이]연도별시각화자료.xlsx', index_col='Unnamed: 0')\n",
    "B = pd.read_excel('./Data/가공완료/[따릉이]월별대여건수(2015~).xlsx', index_col='Unnamed: 0')\n",
    "C = pd.read_excel('./Data/가공완료/[따릉이_확진]일자별증감.xlsx', index_col='Unnamed: 0')\n",
    "D = pd.read_excel('./Data/가공완료/[코로나]월별_확진자수.xlsx', index_col='월')"
   ]
  },
  {
   "cell_type": "code",
   "execution_count": 3,
   "id": "8c20c2b7",
   "metadata": {},
   "outputs": [],
   "source": [
    "DF_18 = pd.read_excel('./Data/2018따릉이(월별이동시간거리).xlsx')\n",
    "DF_19 = pd.read_excel('./Data/2019따릉이(월별이동시간거리).xlsx')\n",
    "DF_20 = pd.read_excel('./Data/2020따릉이(월별이동시간거리).xlsx')\n",
    "DF_21 = pd.read_excel('./Data/2021따릉이(월별이동시간거리).xlsx')"
   ]
  },
  {
   "cell_type": "markdown",
   "id": "3838b9df",
   "metadata": {},
   "source": [
    "# ===================================\n",
    "# @@@@@데이터별 수정작업@@@@@"
   ]
  },
  {
   "cell_type": "code",
   "execution_count": 15,
   "id": "53d628d3",
   "metadata": {},
   "outputs": [],
   "source": [
    "A_DF = A.copy()\n",
    "B_DF = B.copy()\n",
    "C_DF = C.copy()\n",
    "D_DF = D.copy()\n",
    "DF_18_1 = DF_18.copy() # 월별 평균 이동시간거리\n",
    "DF_19_1 = DF_19.copy() # 월별 평균 이동시간거리\n",
    "DF_20_1 = DF_20.copy() # 월별 평균 이동시간거리\n",
    "DF_21_1 = DF_21.copy() # 월별 평균 이동시간거리"
   ]
  },
  {
   "cell_type": "code",
   "execution_count": 16,
   "id": "7bdfc35a",
   "metadata": {},
   "outputs": [],
   "source": [
    "A_DF['월'] = ['01','02','03','04','05','06','07','08','09','10','11','12']\n",
    "A_DF = A_DF.set_index('월')"
   ]
  },
  {
   "cell_type": "code",
   "execution_count": 17,
   "id": "c1f593dc",
   "metadata": {
    "scrolled": true
   },
   "outputs": [],
   "source": [
    "B_DF_AF = B_DF[-24:].set_index('월')"
   ]
  },
  {
   "cell_type": "code",
   "execution_count": 18,
   "id": "9db2db37",
   "metadata": {},
   "outputs": [],
   "source": [
    "D_DF = D_DF[:-2] # 월별확진자수 (2020-2021)\n",
    "D_DF_BF = D_DF[:12] # 월별확진자수 (2020)\n",
    "D_DF_AF = D_DF[12:] # 월별확진자수 (2021)"
   ]
  },
  {
   "cell_type": "code",
   "execution_count": 19,
   "id": "e26d49ca",
   "metadata": {},
   "outputs": [],
   "source": [
    "DF_18_2 = DF_18_1.groupby('월')[['이동거리']].median()\n",
    "DF_19_2 = DF_19_1.groupby('월')[['이동거리']].median()\n",
    "DF_18_2 = DF_18_2.reset_index()\n",
    "DF_19_2 = DF_19_2.reset_index()\n",
    "\n",
    "DF_20_2 = DF_20_1.groupby('월')[['이동거리']].median()\n",
    "DF_21_2 = DF_21_1.groupby('월')[['이동거리']].median()\n",
    "DF_20_2 = DF_20_2.reset_index()\n",
    "DF_21_2 = DF_21_2.reset_index()"
   ]
  },
  {
   "cell_type": "code",
   "execution_count": 20,
   "id": "219ccfab",
   "metadata": {
    "scrolled": true
   },
   "outputs": [
    {
     "data": {
      "text/html": [
       "<div>\n",
       "<style scoped>\n",
       "    .dataframe tbody tr th:only-of-type {\n",
       "        vertical-align: middle;\n",
       "    }\n",
       "\n",
       "    .dataframe tbody tr th {\n",
       "        vertical-align: top;\n",
       "    }\n",
       "\n",
       "    .dataframe thead th {\n",
       "        text-align: right;\n",
       "    }\n",
       "</style>\n",
       "<table border=\"1\" class=\"dataframe\">\n",
       "  <thead>\n",
       "    <tr style=\"text-align: right;\">\n",
       "      <th></th>\n",
       "      <th>이동거리</th>\n",
       "    </tr>\n",
       "    <tr>\n",
       "      <th>월</th>\n",
       "      <th></th>\n",
       "    </tr>\n",
       "  </thead>\n",
       "  <tbody>\n",
       "    <tr>\n",
       "      <th>2018-01</th>\n",
       "      <td>3170.646120</td>\n",
       "    </tr>\n",
       "    <tr>\n",
       "      <th>2018-02</th>\n",
       "      <td>3447.652954</td>\n",
       "    </tr>\n",
       "    <tr>\n",
       "      <th>2018-03</th>\n",
       "      <td>4563.791554</td>\n",
       "    </tr>\n",
       "    <tr>\n",
       "      <th>2018-04</th>\n",
       "      <td>5162.697875</td>\n",
       "    </tr>\n",
       "    <tr>\n",
       "      <th>2018-05</th>\n",
       "      <td>5446.438344</td>\n",
       "    </tr>\n",
       "    <tr>\n",
       "      <th>2018-06</th>\n",
       "      <td>5497.581007</td>\n",
       "    </tr>\n",
       "    <tr>\n",
       "      <th>2018-07</th>\n",
       "      <td>5168.748023</td>\n",
       "    </tr>\n",
       "    <tr>\n",
       "      <th>2018-08</th>\n",
       "      <td>4996.684956</td>\n",
       "    </tr>\n",
       "    <tr>\n",
       "      <th>2018-09</th>\n",
       "      <td>5643.070462</td>\n",
       "    </tr>\n",
       "    <tr>\n",
       "      <th>2018-10</th>\n",
       "      <td>4856.915624</td>\n",
       "    </tr>\n",
       "    <tr>\n",
       "      <th>2018-11</th>\n",
       "      <td>4100.622305</td>\n",
       "    </tr>\n",
       "    <tr>\n",
       "      <th>2018-12</th>\n",
       "      <td>3662.594483</td>\n",
       "    </tr>\n",
       "    <tr>\n",
       "      <th>2019-01</th>\n",
       "      <td>3601.497698</td>\n",
       "    </tr>\n",
       "    <tr>\n",
       "      <th>2019-02</th>\n",
       "      <td>3844.995616</td>\n",
       "    </tr>\n",
       "    <tr>\n",
       "      <th>2019-03</th>\n",
       "      <td>4258.190292</td>\n",
       "    </tr>\n",
       "    <tr>\n",
       "      <th>2019-04</th>\n",
       "      <td>5384.829446</td>\n",
       "    </tr>\n",
       "    <tr>\n",
       "      <th>2019-05</th>\n",
       "      <td>6209.611765</td>\n",
       "    </tr>\n",
       "    <tr>\n",
       "      <th>2019-06</th>\n",
       "      <td>6728.388849</td>\n",
       "    </tr>\n",
       "    <tr>\n",
       "      <th>2019-07</th>\n",
       "      <td>6745.967917</td>\n",
       "    </tr>\n",
       "    <tr>\n",
       "      <th>2019-08</th>\n",
       "      <td>6687.262099</td>\n",
       "    </tr>\n",
       "    <tr>\n",
       "      <th>2019-09</th>\n",
       "      <td>7198.337179</td>\n",
       "    </tr>\n",
       "    <tr>\n",
       "      <th>2019-10</th>\n",
       "      <td>6860.703792</td>\n",
       "    </tr>\n",
       "    <tr>\n",
       "      <th>2019-11</th>\n",
       "      <td>5348.002719</td>\n",
       "    </tr>\n",
       "    <tr>\n",
       "      <th>2019-12</th>\n",
       "      <td>4540.819955</td>\n",
       "    </tr>\n",
       "  </tbody>\n",
       "</table>\n",
       "</div>"
      ],
      "text/plain": [
       "                이동거리\n",
       "월                   \n",
       "2018-01  3170.646120\n",
       "2018-02  3447.652954\n",
       "2018-03  4563.791554\n",
       "2018-04  5162.697875\n",
       "2018-05  5446.438344\n",
       "2018-06  5497.581007\n",
       "2018-07  5168.748023\n",
       "2018-08  4996.684956\n",
       "2018-09  5643.070462\n",
       "2018-10  4856.915624\n",
       "2018-11  4100.622305\n",
       "2018-12  3662.594483\n",
       "2019-01  3601.497698\n",
       "2019-02  3844.995616\n",
       "2019-03  4258.190292\n",
       "2019-04  5384.829446\n",
       "2019-05  6209.611765\n",
       "2019-06  6728.388849\n",
       "2019-07  6745.967917\n",
       "2019-08  6687.262099\n",
       "2019-09  7198.337179\n",
       "2019-10  6860.703792\n",
       "2019-11  5348.002719\n",
       "2019-12  4540.819955"
      ]
     },
     "execution_count": 20,
     "metadata": {},
     "output_type": "execute_result"
    }
   ],
   "source": [
    "DATA_BF = DF_18_2.append(DF_19_2, ignore_index=True)\n",
    "DATA_BF = DATA_BF.set_index('월')\n",
    "DATA_BF"
   ]
  },
  {
   "cell_type": "code",
   "execution_count": 21,
   "id": "fbdaebf3",
   "metadata": {
    "scrolled": false
   },
   "outputs": [
    {
     "data": {
      "text/html": [
       "<div>\n",
       "<style scoped>\n",
       "    .dataframe tbody tr th:only-of-type {\n",
       "        vertical-align: middle;\n",
       "    }\n",
       "\n",
       "    .dataframe tbody tr th {\n",
       "        vertical-align: top;\n",
       "    }\n",
       "\n",
       "    .dataframe thead th {\n",
       "        text-align: right;\n",
       "    }\n",
       "</style>\n",
       "<table border=\"1\" class=\"dataframe\">\n",
       "  <thead>\n",
       "    <tr style=\"text-align: right;\">\n",
       "      <th></th>\n",
       "      <th>이동거리</th>\n",
       "    </tr>\n",
       "    <tr>\n",
       "      <th>월</th>\n",
       "      <th></th>\n",
       "    </tr>\n",
       "  </thead>\n",
       "  <tbody>\n",
       "    <tr>\n",
       "      <th>2021-01</th>\n",
       "      <td>2702.776479</td>\n",
       "    </tr>\n",
       "    <tr>\n",
       "      <th>2021-02</th>\n",
       "      <td>3071.907882</td>\n",
       "    </tr>\n",
       "    <tr>\n",
       "      <th>2021-03</th>\n",
       "      <td>4657.599303</td>\n",
       "    </tr>\n",
       "    <tr>\n",
       "      <th>2021-04</th>\n",
       "      <td>3357.945282</td>\n",
       "    </tr>\n",
       "    <tr>\n",
       "      <th>2021-05</th>\n",
       "      <td>3382.821900</td>\n",
       "    </tr>\n",
       "    <tr>\n",
       "      <th>2021-06</th>\n",
       "      <td>7545.320899</td>\n",
       "    </tr>\n",
       "    <tr>\n",
       "      <th>2021-07</th>\n",
       "      <td>3136.044659</td>\n",
       "    </tr>\n",
       "    <tr>\n",
       "      <th>2021-08</th>\n",
       "      <td>3159.996711</td>\n",
       "    </tr>\n",
       "    <tr>\n",
       "      <th>2021-09</th>\n",
       "      <td>2891.311835</td>\n",
       "    </tr>\n",
       "    <tr>\n",
       "      <th>2021-10</th>\n",
       "      <td>2608.446187</td>\n",
       "    </tr>\n",
       "    <tr>\n",
       "      <th>2021-11</th>\n",
       "      <td>2172.781467</td>\n",
       "    </tr>\n",
       "    <tr>\n",
       "      <th>2021-12</th>\n",
       "      <td>1824.254425</td>\n",
       "    </tr>\n",
       "  </tbody>\n",
       "</table>\n",
       "</div>"
      ],
      "text/plain": [
       "                이동거리\n",
       "월                   \n",
       "2021-01  2702.776479\n",
       "2021-02  3071.907882\n",
       "2021-03  4657.599303\n",
       "2021-04  3357.945282\n",
       "2021-05  3382.821900\n",
       "2021-06  7545.320899\n",
       "2021-07  3136.044659\n",
       "2021-08  3159.996711\n",
       "2021-09  2891.311835\n",
       "2021-10  2608.446187\n",
       "2021-11  2172.781467\n",
       "2021-12  1824.254425"
      ]
     },
     "execution_count": 21,
     "metadata": {},
     "output_type": "execute_result"
    }
   ],
   "source": [
    "DATA = DF_20_2.append(DF_21_2, ignore_index=True)\n",
    "DATA = DATA.set_index('월')\n",
    "DATA_1 = DATA[:12]\n",
    "DATA_2 = DATA[12:]\n",
    "DATA_2"
   ]
  },
  {
   "cell_type": "code",
   "execution_count": 22,
   "id": "54901657",
   "metadata": {
    "scrolled": true
   },
   "outputs": [
    {
     "data": {
      "text/html": [
       "<div>\n",
       "<style scoped>\n",
       "    .dataframe tbody tr th:only-of-type {\n",
       "        vertical-align: middle;\n",
       "    }\n",
       "\n",
       "    .dataframe tbody tr th {\n",
       "        vertical-align: top;\n",
       "    }\n",
       "\n",
       "    .dataframe thead th {\n",
       "        text-align: right;\n",
       "    }\n",
       "</style>\n",
       "<table border=\"1\" class=\"dataframe\">\n",
       "  <thead>\n",
       "    <tr style=\"text-align: right;\">\n",
       "      <th></th>\n",
       "      <th>이동거리</th>\n",
       "      <th>확진자</th>\n",
       "    </tr>\n",
       "    <tr>\n",
       "      <th>월</th>\n",
       "      <th></th>\n",
       "      <th></th>\n",
       "    </tr>\n",
       "  </thead>\n",
       "  <tbody>\n",
       "    <tr>\n",
       "      <th>2020-01</th>\n",
       "      <td>4523.796668</td>\n",
       "      <td>0</td>\n",
       "    </tr>\n",
       "    <tr>\n",
       "      <th>2020-02</th>\n",
       "      <td>4825.902353</td>\n",
       "      <td>0</td>\n",
       "    </tr>\n",
       "    <tr>\n",
       "      <th>2020-03</th>\n",
       "      <td>6733.142302</td>\n",
       "      <td>0</td>\n",
       "    </tr>\n",
       "    <tr>\n",
       "      <th>2020-04</th>\n",
       "      <td>5952.447186</td>\n",
       "      <td>7</td>\n",
       "    </tr>\n",
       "    <tr>\n",
       "      <th>2020-05</th>\n",
       "      <td>3870.881290</td>\n",
       "      <td>228</td>\n",
       "    </tr>\n",
       "    <tr>\n",
       "      <th>2020-06</th>\n",
       "      <td>9780.351784</td>\n",
       "      <td>451</td>\n",
       "    </tr>\n",
       "    <tr>\n",
       "      <th>2020-07</th>\n",
       "      <td>2944.518821</td>\n",
       "      <td>288</td>\n",
       "    </tr>\n",
       "    <tr>\n",
       "      <th>2020-08</th>\n",
       "      <td>725.609916</td>\n",
       "      <td>2267</td>\n",
       "    </tr>\n",
       "    <tr>\n",
       "      <th>2020-09</th>\n",
       "      <td>983.861150</td>\n",
       "      <td>1424</td>\n",
       "    </tr>\n",
       "    <tr>\n",
       "      <th>2020-10</th>\n",
       "      <td>500.404606</td>\n",
       "      <td>719</td>\n",
       "    </tr>\n",
       "    <tr>\n",
       "      <th>2020-11</th>\n",
       "      <td>244.427248</td>\n",
       "      <td>2802</td>\n",
       "    </tr>\n",
       "    <tr>\n",
       "      <th>2020-12</th>\n",
       "      <td>352.082058</td>\n",
       "      <td>10209</td>\n",
       "    </tr>\n",
       "    <tr>\n",
       "      <th>2021-01</th>\n",
       "      <td>2702.776479</td>\n",
       "      <td>5168</td>\n",
       "    </tr>\n",
       "    <tr>\n",
       "      <th>2021-02</th>\n",
       "      <td>3071.907882</td>\n",
       "      <td>4083</td>\n",
       "    </tr>\n",
       "    <tr>\n",
       "      <th>2021-03</th>\n",
       "      <td>4657.599303</td>\n",
       "      <td>3803</td>\n",
       "    </tr>\n",
       "    <tr>\n",
       "      <th>2021-04</th>\n",
       "      <td>3357.945282</td>\n",
       "      <td>5811</td>\n",
       "    </tr>\n",
       "    <tr>\n",
       "      <th>2021-05</th>\n",
       "      <td>3382.821900</td>\n",
       "      <td>6303</td>\n",
       "    </tr>\n",
       "    <tr>\n",
       "      <th>2021-06</th>\n",
       "      <td>7545.320899</td>\n",
       "      <td>6075</td>\n",
       "    </tr>\n",
       "    <tr>\n",
       "      <th>2021-07</th>\n",
       "      <td>3136.044659</td>\n",
       "      <td>14377</td>\n",
       "    </tr>\n",
       "    <tr>\n",
       "      <th>2021-08</th>\n",
       "      <td>3159.996711</td>\n",
       "      <td>15019</td>\n",
       "    </tr>\n",
       "    <tr>\n",
       "      <th>2021-09</th>\n",
       "      <td>2891.311835</td>\n",
       "      <td>21148</td>\n",
       "    </tr>\n",
       "    <tr>\n",
       "      <th>2021-10</th>\n",
       "      <td>2608.446187</td>\n",
       "      <td>19123</td>\n",
       "    </tr>\n",
       "    <tr>\n",
       "      <th>2021-11</th>\n",
       "      <td>2172.781467</td>\n",
       "      <td>34711</td>\n",
       "    </tr>\n",
       "    <tr>\n",
       "      <th>2021-12</th>\n",
       "      <td>1824.254425</td>\n",
       "      <td>70977</td>\n",
       "    </tr>\n",
       "  </tbody>\n",
       "</table>\n",
       "</div>"
      ],
      "text/plain": [
       "                이동거리    확진자\n",
       "월                          \n",
       "2020-01  4523.796668      0\n",
       "2020-02  4825.902353      0\n",
       "2020-03  6733.142302      0\n",
       "2020-04  5952.447186      7\n",
       "2020-05  3870.881290    228\n",
       "2020-06  9780.351784    451\n",
       "2020-07  2944.518821    288\n",
       "2020-08   725.609916   2267\n",
       "2020-09   983.861150   1424\n",
       "2020-10   500.404606    719\n",
       "2020-11   244.427248   2802\n",
       "2020-12   352.082058  10209\n",
       "2021-01  2702.776479   5168\n",
       "2021-02  3071.907882   4083\n",
       "2021-03  4657.599303   3803\n",
       "2021-04  3357.945282   5811\n",
       "2021-05  3382.821900   6303\n",
       "2021-06  7545.320899   6075\n",
       "2021-07  3136.044659  14377\n",
       "2021-08  3159.996711  15019\n",
       "2021-09  2891.311835  21148\n",
       "2021-10  2608.446187  19123\n",
       "2021-11  2172.781467  34711\n",
       "2021-12  1824.254425  70977"
      ]
     },
     "execution_count": 22,
     "metadata": {},
     "output_type": "execute_result"
    }
   ],
   "source": [
    "COR = pd.merge(DATA, D_DF, how='left', on='월')\n",
    "COR # 이동거리 + 확진자"
   ]
  },
  {
   "cell_type": "code",
   "execution_count": 23,
   "id": "74d105fb",
   "metadata": {
    "scrolled": true
   },
   "outputs": [
    {
     "data": {
      "text/html": [
       "<div>\n",
       "<style scoped>\n",
       "    .dataframe tbody tr th:only-of-type {\n",
       "        vertical-align: middle;\n",
       "    }\n",
       "\n",
       "    .dataframe tbody tr th {\n",
       "        vertical-align: top;\n",
       "    }\n",
       "\n",
       "    .dataframe thead th {\n",
       "        text-align: right;\n",
       "    }\n",
       "</style>\n",
       "<table border=\"1\" class=\"dataframe\">\n",
       "  <thead>\n",
       "    <tr style=\"text-align: right;\">\n",
       "      <th></th>\n",
       "      <th>이동거리</th>\n",
       "      <th>확진자</th>\n",
       "      <th>대여건수</th>\n",
       "    </tr>\n",
       "    <tr>\n",
       "      <th>월</th>\n",
       "      <th></th>\n",
       "      <th></th>\n",
       "      <th></th>\n",
       "    </tr>\n",
       "  </thead>\n",
       "  <tbody>\n",
       "    <tr>\n",
       "      <th>2020-01</th>\n",
       "      <td>4523.796668</td>\n",
       "      <td>0</td>\n",
       "      <td>794162</td>\n",
       "    </tr>\n",
       "    <tr>\n",
       "      <th>2020-02</th>\n",
       "      <td>4825.902353</td>\n",
       "      <td>0</td>\n",
       "      <td>762274</td>\n",
       "    </tr>\n",
       "    <tr>\n",
       "      <th>2020-03</th>\n",
       "      <td>6733.142302</td>\n",
       "      <td>0</td>\n",
       "      <td>1533535</td>\n",
       "    </tr>\n",
       "    <tr>\n",
       "      <th>2020-04</th>\n",
       "      <td>5952.447186</td>\n",
       "      <td>7</td>\n",
       "      <td>2157390</td>\n",
       "    </tr>\n",
       "    <tr>\n",
       "      <th>2020-05</th>\n",
       "      <td>3870.881290</td>\n",
       "      <td>228</td>\n",
       "      <td>2480330</td>\n",
       "    </tr>\n",
       "    <tr>\n",
       "      <th>2020-06</th>\n",
       "      <td>9780.351784</td>\n",
       "      <td>451</td>\n",
       "      <td>2770858</td>\n",
       "    </tr>\n",
       "    <tr>\n",
       "      <th>2020-07</th>\n",
       "      <td>2944.518821</td>\n",
       "      <td>288</td>\n",
       "      <td>2582511</td>\n",
       "    </tr>\n",
       "    <tr>\n",
       "      <th>2020-08</th>\n",
       "      <td>725.609916</td>\n",
       "      <td>2267</td>\n",
       "      <td>1733973</td>\n",
       "    </tr>\n",
       "    <tr>\n",
       "      <th>2020-09</th>\n",
       "      <td>983.861150</td>\n",
       "      <td>1424</td>\n",
       "      <td>2811990</td>\n",
       "    </tr>\n",
       "    <tr>\n",
       "      <th>2020-10</th>\n",
       "      <td>500.404606</td>\n",
       "      <td>719</td>\n",
       "      <td>2891618</td>\n",
       "    </tr>\n",
       "    <tr>\n",
       "      <th>2020-11</th>\n",
       "      <td>244.427248</td>\n",
       "      <td>2802</td>\n",
       "      <td>1990070</td>\n",
       "    </tr>\n",
       "    <tr>\n",
       "      <th>2020-12</th>\n",
       "      <td>352.082058</td>\n",
       "      <td>10209</td>\n",
       "      <td>1196309</td>\n",
       "    </tr>\n",
       "    <tr>\n",
       "      <th>2021-01</th>\n",
       "      <td>2702.776479</td>\n",
       "      <td>5168</td>\n",
       "      <td>812021</td>\n",
       "    </tr>\n",
       "    <tr>\n",
       "      <th>2021-02</th>\n",
       "      <td>3071.907882</td>\n",
       "      <td>4083</td>\n",
       "      <td>1234546</td>\n",
       "    </tr>\n",
       "    <tr>\n",
       "      <th>2021-03</th>\n",
       "      <td>4657.599303</td>\n",
       "      <td>3803</td>\n",
       "      <td>2184228</td>\n",
       "    </tr>\n",
       "    <tr>\n",
       "      <th>2021-04</th>\n",
       "      <td>3357.945282</td>\n",
       "      <td>5811</td>\n",
       "      <td>3043238</td>\n",
       "    </tr>\n",
       "    <tr>\n",
       "      <th>2021-05</th>\n",
       "      <td>3382.821900</td>\n",
       "      <td>6303</td>\n",
       "      <td>2950150</td>\n",
       "    </tr>\n",
       "    <tr>\n",
       "      <th>2021-06</th>\n",
       "      <td>7545.320899</td>\n",
       "      <td>6075</td>\n",
       "      <td>3460407</td>\n",
       "    </tr>\n",
       "    <tr>\n",
       "      <th>2021-07</th>\n",
       "      <td>3136.044659</td>\n",
       "      <td>14377</td>\n",
       "      <td>3377506</td>\n",
       "    </tr>\n",
       "    <tr>\n",
       "      <th>2021-08</th>\n",
       "      <td>3159.996711</td>\n",
       "      <td>15019</td>\n",
       "      <td>3245974</td>\n",
       "    </tr>\n",
       "    <tr>\n",
       "      <th>2021-09</th>\n",
       "      <td>2891.311835</td>\n",
       "      <td>21148</td>\n",
       "      <td>3736657</td>\n",
       "    </tr>\n",
       "    <tr>\n",
       "      <th>2021-10</th>\n",
       "      <td>2608.446187</td>\n",
       "      <td>19123</td>\n",
       "      <td>3445929</td>\n",
       "    </tr>\n",
       "    <tr>\n",
       "      <th>2021-11</th>\n",
       "      <td>2172.781467</td>\n",
       "      <td>34711</td>\n",
       "      <td>2737291</td>\n",
       "    </tr>\n",
       "    <tr>\n",
       "      <th>2021-12</th>\n",
       "      <td>1824.254425</td>\n",
       "      <td>70977</td>\n",
       "      <td>1826746</td>\n",
       "    </tr>\n",
       "  </tbody>\n",
       "</table>\n",
       "</div>"
      ],
      "text/plain": [
       "                이동거리    확진자     대여건수\n",
       "월                                   \n",
       "2020-01  4523.796668      0   794162\n",
       "2020-02  4825.902353      0   762274\n",
       "2020-03  6733.142302      0  1533535\n",
       "2020-04  5952.447186      7  2157390\n",
       "2020-05  3870.881290    228  2480330\n",
       "2020-06  9780.351784    451  2770858\n",
       "2020-07  2944.518821    288  2582511\n",
       "2020-08   725.609916   2267  1733973\n",
       "2020-09   983.861150   1424  2811990\n",
       "2020-10   500.404606    719  2891618\n",
       "2020-11   244.427248   2802  1990070\n",
       "2020-12   352.082058  10209  1196309\n",
       "2021-01  2702.776479   5168   812021\n",
       "2021-02  3071.907882   4083  1234546\n",
       "2021-03  4657.599303   3803  2184228\n",
       "2021-04  3357.945282   5811  3043238\n",
       "2021-05  3382.821900   6303  2950150\n",
       "2021-06  7545.320899   6075  3460407\n",
       "2021-07  3136.044659  14377  3377506\n",
       "2021-08  3159.996711  15019  3245974\n",
       "2021-09  2891.311835  21148  3736657\n",
       "2021-10  2608.446187  19123  3445929\n",
       "2021-11  2172.781467  34711  2737291\n",
       "2021-12  1824.254425  70977  1826746"
      ]
     },
     "execution_count": 23,
     "metadata": {},
     "output_type": "execute_result"
    }
   ],
   "source": [
    "CORR = pd.merge(COR, B_DF_AF, how='left', on='월')\n",
    "CORR # 이동거리 + 확진자 + 대여건수"
   ]
  },
  {
   "cell_type": "markdown",
   "id": "02ee7a94",
   "metadata": {},
   "source": [
    "# @@@@@ 수정작업 끝 @@@@@\n",
    "# ==================================="
   ]
  },
  {
   "cell_type": "markdown",
   "id": "f6c3276e",
   "metadata": {},
   "source": [
    "# 연도x월별 이용패턴\n",
    "- 2016.01-2021.12의 공공자전거이용내역데이터 사용\n",
    "- 각 연도x월별로 이용건수의 총합에서 증감수로 변환(각 전년도 동월 이용건수를 뺌)\n",
    "- matplotlib 이용하여 각 연도x월별 따릉이 이용패턴을 시각화해 보고자함"
   ]
  },
  {
   "cell_type": "code",
   "execution_count": 14,
   "id": "7a66c2ab",
   "metadata": {},
   "outputs": [],
   "source": [
    "import matplotlib.pyplot as plt\n",
    "from matplotlib import rc, font_manager\n",
    "rc('font', family = 'malgun gothic')"
   ]
  },
  {
   "cell_type": "markdown",
   "id": "cd3e63fe",
   "metadata": {},
   "source": [
    "## 그래프 1\n",
    "- 연도별 이용건수"
   ]
  },
  {
   "cell_type": "code",
   "execution_count": 14,
   "id": "f60eb391",
   "metadata": {},
   "outputs": [
    {
     "data": {
      "image/png": "[encoded data removed]",
      "text/plain": [
       "<Figure size 864x576 with 1 Axes>"
      ]
     },
     "metadata": {},
     "output_type": "display_data"
    }
   ],
   "source": [
    "plt.style.use('ggplot')\n",
    "plt.rcParams['figure.figsize'] = (12, 8)\n",
    "plt.rcParams['font.size'] = 12\n",
    "plt.rcParams['lines.linewidth'] = 2\n",
    "\n",
    "A_DF.plot()\n",
    "plt.xlabel('월')\n",
    "plt.ylabel('이용건수')\n",
    "plt.legend()\n",
    "plt.show()"
   ]
  },
  {
   "cell_type": "code",
   "execution_count": 16,
   "id": "1e9ccbe7",
   "metadata": {},
   "outputs": [
    {
     "data": {
      "image/png": "[encoded data removed]",
      "text/plain": [
       "<Figure size 864x576 with 1 Axes>"
      ]
     },
     "metadata": {},
     "output_type": "display_data"
    }
   ],
   "source": [
    "plt.style.use('ggplot')\n",
    "plt.rcParams['figure.figsize'] = (12, 8)\n",
    "plt.rcParams['font.size'] = 12\n",
    "plt.rcParams['lines.linewidth'] = 2\n",
    "\n",
    "D_DF[:-2].plot.bar()\n",
    "plt.plot((B_DF_AF/100), c = 'b')\n",
    "\n",
    "plt.xlabel('월')\n",
    "plt.ylabel('이용건수')\n",
    "plt.legend()\n",
    "plt.show()"
   ]
  },
  {
   "cell_type": "markdown",
   "id": "58e2dc7d",
   "metadata": {},
   "source": [
    "# 그래프 2\n",
    "- 연도별 이동거리"
   ]
  },
  {
   "cell_type": "code",
   "execution_count": 18,
   "id": "7215c5f5",
   "metadata": {},
   "outputs": [
    {
     "data": {
      "image/png": "[encoded data removed]",
      "text/plain": [
       "<Figure size 864x576 with 1 Axes>"
      ]
     },
     "metadata": {},
     "output_type": "display_data"
    }
   ],
   "source": [
    "plt.style.use('ggplot')\n",
    "plt.rcParams['figure.figsize'] = (12, 8)\n",
    "plt.rcParams['font.size'] = 12\n",
    "plt.rcParams['lines.linewidth'] = 2\n",
    "\n",
    "DATA_BF.plot(c='b') # 2018~2019 이동거리\n",
    "\n",
    "plt.xlabel('연월')\n",
    "plt.ylabel('이동거리')\n",
    "plt.legend()\n",
    "plt.show()"
   ]
  },
  {
   "cell_type": "code",
   "execution_count": 59,
   "id": "b6ae0faa",
   "metadata": {},
   "outputs": [
    {
     "data": {
      "image/png": "[encoded data removed]",
      "text/plain": [
       "<Figure size 864x576 with 1 Axes>"
      ]
     },
     "metadata": {},
     "output_type": "display_data"
    }
   ],
   "source": [
    "plt.style.use('ggplot')\n",
    "plt.rcParams['figure.figsize'] = (12, 8)\n",
    "plt.rcParams['font.size'] = 12\n",
    "plt.rcParams['lines.linewidth'] = 2\n",
    "\n",
    "D_DF[:-2].plot.bar()\n",
    "plt.plot(DATA, c='b') # 2020~2021 이동거리\n",
    "\n",
    "plt.xlabel('연월')\n",
    "plt.ylabel('이동거리')\n",
    "plt.legend()\n",
    "plt.show()"
   ]
  },
  {
   "cell_type": "code",
   "execution_count": 20,
   "id": "a5a69c31",
   "metadata": {},
   "outputs": [
    {
     "data": {
      "image/png": "[encoded data removed]",
      "text/plain": [
       "<Figure size 864x576 with 1 Axes>"
      ]
     },
     "metadata": {},
     "output_type": "display_data"
    }
   ],
   "source": [
    "plt.style.use('ggplot')\n",
    "plt.rcParams['figure.figsize'] = (12, 8)\n",
    "plt.rcParams['font.size'] = 12\n",
    "plt.rcParams['lines.linewidth'] = 2\n",
    "\n",
    "D_DF[:12].plot.bar()\n",
    "plt.plot(DATA_1, c='b') # 2020 이동거리\n",
    "\n",
    "plt.xlabel('연월')\n",
    "plt.ylabel('이동거리')\n",
    "plt.legend()\n",
    "plt.show()"
   ]
  },
  {
   "cell_type": "code",
   "execution_count": 21,
   "id": "0c044491",
   "metadata": {},
   "outputs": [
    {
     "data": {
      "image/png": "[encoded data removed]",
      "text/plain": [
       "<Figure size 864x576 with 1 Axes>"
      ]
     },
     "metadata": {},
     "output_type": "display_data"
    }
   ],
   "source": [
    "plt.style.use('ggplot')\n",
    "plt.rcParams['figure.figsize'] = (12, 8)\n",
    "plt.rcParams['font.size'] = 12\n",
    "plt.rcParams['lines.linewidth'] = 2\n",
    "\n",
    "D_DF[12:-2].plot.bar()\n",
    "plt.plot((DATA_2*10), c='b') # 2021 이동거리\n",
    "\n",
    "plt.xlabel('월')\n",
    "plt.ylabel('이동거리')\n",
    "plt.legend()\n",
    "plt.show()"
   ]
  },
  {
   "cell_type": "code",
   "execution_count": 22,
   "id": "f490f666",
   "metadata": {},
   "outputs": [
    {
     "name": "stdout",
     "output_type": "stream",
     "text": [
      "10\n",
      "12\n"
     ]
    }
   ],
   "source": [
    "print(len(D_DF[12:-2]))\n",
    "print(len(DATA[12:]))"
   ]
  },
  {
   "cell_type": "markdown",
   "id": "b564bda3",
   "metadata": {},
   "source": [
    "# 상관관계분석\n",
    "- 이동거리 + 확진자"
   ]
  },
  {
   "cell_type": "code",
   "execution_count": 23,
   "id": "3cf0c506",
   "metadata": {},
   "outputs": [
    {
     "data": {
      "text/html": [
       "<div>\n",
       "<style scoped>\n",
       "    .dataframe tbody tr th:only-of-type {\n",
       "        vertical-align: middle;\n",
       "    }\n",
       "\n",
       "    .dataframe tbody tr th {\n",
       "        vertical-align: top;\n",
       "    }\n",
       "\n",
       "    .dataframe thead th {\n",
       "        text-align: right;\n",
       "    }\n",
       "</style>\n",
       "<table border=\"1\" class=\"dataframe\">\n",
       "  <thead>\n",
       "    <tr style=\"text-align: right;\">\n",
       "      <th></th>\n",
       "      <th>이동거리</th>\n",
       "      <th>확진자</th>\n",
       "    </tr>\n",
       "  </thead>\n",
       "  <tbody>\n",
       "    <tr>\n",
       "      <th>이동거리</th>\n",
       "      <td>1.00000</td>\n",
       "      <td>-0.51116</td>\n",
       "    </tr>\n",
       "    <tr>\n",
       "      <th>확진자</th>\n",
       "      <td>-0.51116</td>\n",
       "      <td>1.00000</td>\n",
       "    </tr>\n",
       "  </tbody>\n",
       "</table>\n",
       "</div>"
      ],
      "text/plain": [
       "         이동거리      확진자\n",
       "이동거리  1.00000 -0.51116\n",
       "확진자  -0.51116  1.00000"
      ]
     },
     "execution_count": 23,
     "metadata": {},
     "output_type": "execute_result"
    }
   ],
   "source": [
    "COR[:12].corr()"
   ]
  },
  {
   "cell_type": "code",
   "execution_count": 24,
   "id": "f2c9623c",
   "metadata": {
    "scrolled": true
   },
   "outputs": [
    {
     "data": {
      "text/html": [
       "<div>\n",
       "<style scoped>\n",
       "    .dataframe tbody tr th:only-of-type {\n",
       "        vertical-align: middle;\n",
       "    }\n",
       "\n",
       "    .dataframe tbody tr th {\n",
       "        vertical-align: top;\n",
       "    }\n",
       "\n",
       "    .dataframe thead th {\n",
       "        text-align: right;\n",
       "    }\n",
       "</style>\n",
       "<table border=\"1\" class=\"dataframe\">\n",
       "  <thead>\n",
       "    <tr style=\"text-align: right;\">\n",
       "      <th></th>\n",
       "      <th>이동거리</th>\n",
       "      <th>확진자</th>\n",
       "    </tr>\n",
       "  </thead>\n",
       "  <tbody>\n",
       "    <tr>\n",
       "      <th>이동거리</th>\n",
       "      <td>1.000000</td>\n",
       "      <td>-0.500337</td>\n",
       "    </tr>\n",
       "    <tr>\n",
       "      <th>확진자</th>\n",
       "      <td>-0.500337</td>\n",
       "      <td>1.000000</td>\n",
       "    </tr>\n",
       "  </tbody>\n",
       "</table>\n",
       "</div>"
      ],
      "text/plain": [
       "          이동거리       확진자\n",
       "이동거리  1.000000 -0.500337\n",
       "확진자  -0.500337  1.000000"
      ]
     },
     "execution_count": 24,
     "metadata": {},
     "output_type": "execute_result"
    }
   ],
   "source": [
    "COR[12:].corr()"
   ]
  },
  {
   "cell_type": "markdown",
   "id": "21679e78",
   "metadata": {},
   "source": [
    "- +대여건수"
   ]
  },
  {
   "cell_type": "code",
   "execution_count": 25,
   "id": "29ea334a",
   "metadata": {},
   "outputs": [
    {
     "data": {
      "text/html": [
       "<div>\n",
       "<style scoped>\n",
       "    .dataframe tbody tr th:only-of-type {\n",
       "        vertical-align: middle;\n",
       "    }\n",
       "\n",
       "    .dataframe tbody tr th {\n",
       "        vertical-align: top;\n",
       "    }\n",
       "\n",
       "    .dataframe thead th {\n",
       "        text-align: right;\n",
       "    }\n",
       "</style>\n",
       "<table border=\"1\" class=\"dataframe\">\n",
       "  <thead>\n",
       "    <tr style=\"text-align: right;\">\n",
       "      <th></th>\n",
       "      <th>이동거리</th>\n",
       "      <th>확진자</th>\n",
       "      <th>대여건수</th>\n",
       "    </tr>\n",
       "  </thead>\n",
       "  <tbody>\n",
       "    <tr>\n",
       "      <th>이동거리</th>\n",
       "      <td>1.000000</td>\n",
       "      <td>-0.511160</td>\n",
       "      <td>-0.028253</td>\n",
       "    </tr>\n",
       "    <tr>\n",
       "      <th>확진자</th>\n",
       "      <td>-0.511160</td>\n",
       "      <td>1.000000</td>\n",
       "      <td>-0.242813</td>\n",
       "    </tr>\n",
       "    <tr>\n",
       "      <th>대여건수</th>\n",
       "      <td>-0.028253</td>\n",
       "      <td>-0.242813</td>\n",
       "      <td>1.000000</td>\n",
       "    </tr>\n",
       "  </tbody>\n",
       "</table>\n",
       "</div>"
      ],
      "text/plain": [
       "          이동거리       확진자      대여건수\n",
       "이동거리  1.000000 -0.511160 -0.028253\n",
       "확진자  -0.511160  1.000000 -0.242813\n",
       "대여건수 -0.028253 -0.242813  1.000000"
      ]
     },
     "execution_count": 25,
     "metadata": {},
     "output_type": "execute_result"
    }
   ],
   "source": [
    "CORR[:12].corr()"
   ]
  },
  {
   "cell_type": "code",
   "execution_count": 26,
   "id": "a56bf8ed",
   "metadata": {
    "scrolled": true
   },
   "outputs": [
    {
     "data": {
      "text/html": [
       "<div>\n",
       "<style scoped>\n",
       "    .dataframe tbody tr th:only-of-type {\n",
       "        vertical-align: middle;\n",
       "    }\n",
       "\n",
       "    .dataframe tbody tr th {\n",
       "        vertical-align: top;\n",
       "    }\n",
       "\n",
       "    .dataframe thead th {\n",
       "        text-align: right;\n",
       "    }\n",
       "</style>\n",
       "<table border=\"1\" class=\"dataframe\">\n",
       "  <thead>\n",
       "    <tr style=\"text-align: right;\">\n",
       "      <th></th>\n",
       "      <th>이동거리</th>\n",
       "      <th>확진자</th>\n",
       "      <th>대여건수</th>\n",
       "    </tr>\n",
       "  </thead>\n",
       "  <tbody>\n",
       "    <tr>\n",
       "      <th>이동거리</th>\n",
       "      <td>1.000000</td>\n",
       "      <td>-0.500337</td>\n",
       "      <td>0.269234</td>\n",
       "    </tr>\n",
       "    <tr>\n",
       "      <th>확진자</th>\n",
       "      <td>-0.500337</td>\n",
       "      <td>1.000000</td>\n",
       "      <td>-0.050314</td>\n",
       "    </tr>\n",
       "    <tr>\n",
       "      <th>대여건수</th>\n",
       "      <td>0.269234</td>\n",
       "      <td>-0.050314</td>\n",
       "      <td>1.000000</td>\n",
       "    </tr>\n",
       "  </tbody>\n",
       "</table>\n",
       "</div>"
      ],
      "text/plain": [
       "          이동거리       확진자      대여건수\n",
       "이동거리  1.000000 -0.500337  0.269234\n",
       "확진자  -0.500337  1.000000 -0.050314\n",
       "대여건수  0.269234 -0.050314  1.000000"
      ]
     },
     "execution_count": 26,
     "metadata": {},
     "output_type": "execute_result"
    }
   ],
   "source": [
    "CORR[12:].corr()"
   ]
  },
  {
   "cell_type": "markdown",
   "id": "b8fc828e",
   "metadata": {},
   "source": [
    "# @@@@@ 모델링전처리 @@@@@"
   ]
  },
  {
   "cell_type": "code",
   "execution_count": 230,
   "id": "a7ac3800",
   "metadata": {
    "scrolled": true
   },
   "outputs": [
    {
     "data": {
      "text/html": [
       "<div>\n",
       "<style scoped>\n",
       "    .dataframe tbody tr th:only-of-type {\n",
       "        vertical-align: middle;\n",
       "    }\n",
       "\n",
       "    .dataframe tbody tr th {\n",
       "        vertical-align: top;\n",
       "    }\n",
       "\n",
       "    .dataframe thead th {\n",
       "        text-align: right;\n",
       "    }\n",
       "</style>\n",
       "<table border=\"1\" class=\"dataframe\">\n",
       "  <thead>\n",
       "    <tr style=\"text-align: right;\">\n",
       "      <th></th>\n",
       "      <th>이동거리</th>\n",
       "      <th>확진자</th>\n",
       "      <th>대여건수</th>\n",
       "    </tr>\n",
       "    <tr>\n",
       "      <th>월</th>\n",
       "      <th></th>\n",
       "      <th></th>\n",
       "      <th></th>\n",
       "    </tr>\n",
       "  </thead>\n",
       "  <tbody>\n",
       "    <tr>\n",
       "      <th>2020-04</th>\n",
       "      <td>-780.695116</td>\n",
       "      <td>7.0</td>\n",
       "      <td>623855.0</td>\n",
       "    </tr>\n",
       "    <tr>\n",
       "      <th>2020-05</th>\n",
       "      <td>-2081.565895</td>\n",
       "      <td>221.0</td>\n",
       "      <td>322940.0</td>\n",
       "    </tr>\n",
       "    <tr>\n",
       "      <th>2020-06</th>\n",
       "      <td>5909.470493</td>\n",
       "      <td>223.0</td>\n",
       "      <td>290528.0</td>\n",
       "    </tr>\n",
       "    <tr>\n",
       "      <th>2020-07</th>\n",
       "      <td>-6835.832963</td>\n",
       "      <td>-163.0</td>\n",
       "      <td>-188347.0</td>\n",
       "    </tr>\n",
       "    <tr>\n",
       "      <th>2020-08</th>\n",
       "      <td>-2218.908905</td>\n",
       "      <td>1979.0</td>\n",
       "      <td>-848538.0</td>\n",
       "    </tr>\n",
       "    <tr>\n",
       "      <th>2020-09</th>\n",
       "      <td>258.251235</td>\n",
       "      <td>-843.0</td>\n",
       "      <td>1078017.0</td>\n",
       "    </tr>\n",
       "    <tr>\n",
       "      <th>2020-10</th>\n",
       "      <td>-483.456544</td>\n",
       "      <td>-705.0</td>\n",
       "      <td>79628.0</td>\n",
       "    </tr>\n",
       "    <tr>\n",
       "      <th>2020-11</th>\n",
       "      <td>-255.977358</td>\n",
       "      <td>2083.0</td>\n",
       "      <td>-901548.0</td>\n",
       "    </tr>\n",
       "    <tr>\n",
       "      <th>2020-12</th>\n",
       "      <td>107.654810</td>\n",
       "      <td>7407.0</td>\n",
       "      <td>-793761.0</td>\n",
       "    </tr>\n",
       "    <tr>\n",
       "      <th>2021-01</th>\n",
       "      <td>2350.694421</td>\n",
       "      <td>-5041.0</td>\n",
       "      <td>-384288.0</td>\n",
       "    </tr>\n",
       "    <tr>\n",
       "      <th>2021-02</th>\n",
       "      <td>369.131403</td>\n",
       "      <td>-1085.0</td>\n",
       "      <td>422525.0</td>\n",
       "    </tr>\n",
       "    <tr>\n",
       "      <th>2021-03</th>\n",
       "      <td>1585.691421</td>\n",
       "      <td>-280.0</td>\n",
       "      <td>949682.0</td>\n",
       "    </tr>\n",
       "    <tr>\n",
       "      <th>2021-04</th>\n",
       "      <td>-1299.654021</td>\n",
       "      <td>2008.0</td>\n",
       "      <td>859010.0</td>\n",
       "    </tr>\n",
       "    <tr>\n",
       "      <th>2021-05</th>\n",
       "      <td>24.876619</td>\n",
       "      <td>492.0</td>\n",
       "      <td>-93088.0</td>\n",
       "    </tr>\n",
       "    <tr>\n",
       "      <th>2021-06</th>\n",
       "      <td>4162.498999</td>\n",
       "      <td>-228.0</td>\n",
       "      <td>510257.0</td>\n",
       "    </tr>\n",
       "    <tr>\n",
       "      <th>2021-07</th>\n",
       "      <td>-4409.276240</td>\n",
       "      <td>8302.0</td>\n",
       "      <td>-82901.0</td>\n",
       "    </tr>\n",
       "    <tr>\n",
       "      <th>2021-08</th>\n",
       "      <td>23.952052</td>\n",
       "      <td>642.0</td>\n",
       "      <td>-131532.0</td>\n",
       "    </tr>\n",
       "    <tr>\n",
       "      <th>2021-09</th>\n",
       "      <td>-268.684876</td>\n",
       "      <td>6129.0</td>\n",
       "      <td>490683.0</td>\n",
       "    </tr>\n",
       "    <tr>\n",
       "      <th>2021-10</th>\n",
       "      <td>-282.865648</td>\n",
       "      <td>-2025.0</td>\n",
       "      <td>-290728.0</td>\n",
       "    </tr>\n",
       "    <tr>\n",
       "      <th>2021-11</th>\n",
       "      <td>-435.664721</td>\n",
       "      <td>15588.0</td>\n",
       "      <td>-708638.0</td>\n",
       "    </tr>\n",
       "    <tr>\n",
       "      <th>2021-12</th>\n",
       "      <td>-348.527042</td>\n",
       "      <td>36266.0</td>\n",
       "      <td>-910545.0</td>\n",
       "    </tr>\n",
       "  </tbody>\n",
       "</table>\n",
       "</div>"
      ],
      "text/plain": [
       "                이동거리      확진자       대여건수\n",
       "월                                       \n",
       "2020-04  -780.695116      7.0   623855.0\n",
       "2020-05 -2081.565895    221.0   322940.0\n",
       "2020-06  5909.470493    223.0   290528.0\n",
       "2020-07 -6835.832963   -163.0  -188347.0\n",
       "2020-08 -2218.908905   1979.0  -848538.0\n",
       "2020-09   258.251235   -843.0  1078017.0\n",
       "2020-10  -483.456544   -705.0    79628.0\n",
       "2020-11  -255.977358   2083.0  -901548.0\n",
       "2020-12   107.654810   7407.0  -793761.0\n",
       "2021-01  2350.694421  -5041.0  -384288.0\n",
       "2021-02   369.131403  -1085.0   422525.0\n",
       "2021-03  1585.691421   -280.0   949682.0\n",
       "2021-04 -1299.654021   2008.0   859010.0\n",
       "2021-05    24.876619    492.0   -93088.0\n",
       "2021-06  4162.498999   -228.0   510257.0\n",
       "2021-07 -4409.276240   8302.0   -82901.0\n",
       "2021-08    23.952052    642.0  -131532.0\n",
       "2021-09  -268.684876   6129.0   490683.0\n",
       "2021-10  -282.865648  -2025.0  -290728.0\n",
       "2021-11  -435.664721  15588.0  -708638.0\n",
       "2021-12  -348.527042  36266.0  -910545.0"
      ]
     },
     "execution_count": 230,
     "metadata": {},
     "output_type": "execute_result"
    }
   ],
   "source": [
    "CORR_1 = CORR - CORR.shift()\n",
    "TRANS_1 = CORR_1[3:]\n",
    "TRANS_1"
   ]
  },
  {
   "cell_type": "code",
   "execution_count": 28,
   "id": "499cd033",
   "metadata": {
    "scrolled": true
   },
   "outputs": [
    {
     "name": "stderr",
     "output_type": "stream",
     "text": [
      "100%|████████████████████████████████████████████████████████████████████████████████| 21/21 [00:00<00:00, 3498.45it/s]\n"
     ]
    },
    {
     "data": {
      "text/html": [
       "<div>\n",
       "<style scoped>\n",
       "    .dataframe tbody tr th:only-of-type {\n",
       "        vertical-align: middle;\n",
       "    }\n",
       "\n",
       "    .dataframe tbody tr th {\n",
       "        vertical-align: top;\n",
       "    }\n",
       "\n",
       "    .dataframe thead th {\n",
       "        text-align: right;\n",
       "    }\n",
       "</style>\n",
       "<table border=\"1\" class=\"dataframe\">\n",
       "  <thead>\n",
       "    <tr style=\"text-align: right;\">\n",
       "      <th></th>\n",
       "      <th>이동거리</th>\n",
       "      <th>확진자</th>\n",
       "      <th>대여건수</th>\n",
       "    </tr>\n",
       "    <tr>\n",
       "      <th>월</th>\n",
       "      <th></th>\n",
       "      <th></th>\n",
       "      <th></th>\n",
       "    </tr>\n",
       "  </thead>\n",
       "  <tbody>\n",
       "    <tr>\n",
       "      <th>2020-04</th>\n",
       "      <td>0.0</td>\n",
       "      <td>1.0</td>\n",
       "      <td>1.0</td>\n",
       "    </tr>\n",
       "    <tr>\n",
       "      <th>2020-05</th>\n",
       "      <td>0.0</td>\n",
       "      <td>1.0</td>\n",
       "      <td>1.0</td>\n",
       "    </tr>\n",
       "    <tr>\n",
       "      <th>2020-06</th>\n",
       "      <td>1.0</td>\n",
       "      <td>1.0</td>\n",
       "      <td>1.0</td>\n",
       "    </tr>\n",
       "    <tr>\n",
       "      <th>2020-07</th>\n",
       "      <td>0.0</td>\n",
       "      <td>0.0</td>\n",
       "      <td>0.0</td>\n",
       "    </tr>\n",
       "    <tr>\n",
       "      <th>2020-08</th>\n",
       "      <td>0.0</td>\n",
       "      <td>1.0</td>\n",
       "      <td>0.0</td>\n",
       "    </tr>\n",
       "    <tr>\n",
       "      <th>2020-09</th>\n",
       "      <td>1.0</td>\n",
       "      <td>0.0</td>\n",
       "      <td>1.0</td>\n",
       "    </tr>\n",
       "    <tr>\n",
       "      <th>2020-10</th>\n",
       "      <td>0.0</td>\n",
       "      <td>0.0</td>\n",
       "      <td>1.0</td>\n",
       "    </tr>\n",
       "    <tr>\n",
       "      <th>2020-11</th>\n",
       "      <td>0.0</td>\n",
       "      <td>1.0</td>\n",
       "      <td>0.0</td>\n",
       "    </tr>\n",
       "    <tr>\n",
       "      <th>2020-12</th>\n",
       "      <td>1.0</td>\n",
       "      <td>1.0</td>\n",
       "      <td>0.0</td>\n",
       "    </tr>\n",
       "    <tr>\n",
       "      <th>2021-01</th>\n",
       "      <td>1.0</td>\n",
       "      <td>0.0</td>\n",
       "      <td>0.0</td>\n",
       "    </tr>\n",
       "    <tr>\n",
       "      <th>2021-02</th>\n",
       "      <td>1.0</td>\n",
       "      <td>0.0</td>\n",
       "      <td>1.0</td>\n",
       "    </tr>\n",
       "    <tr>\n",
       "      <th>2021-03</th>\n",
       "      <td>1.0</td>\n",
       "      <td>0.0</td>\n",
       "      <td>1.0</td>\n",
       "    </tr>\n",
       "    <tr>\n",
       "      <th>2021-04</th>\n",
       "      <td>0.0</td>\n",
       "      <td>1.0</td>\n",
       "      <td>1.0</td>\n",
       "    </tr>\n",
       "    <tr>\n",
       "      <th>2021-05</th>\n",
       "      <td>1.0</td>\n",
       "      <td>1.0</td>\n",
       "      <td>0.0</td>\n",
       "    </tr>\n",
       "    <tr>\n",
       "      <th>2021-06</th>\n",
       "      <td>1.0</td>\n",
       "      <td>0.0</td>\n",
       "      <td>1.0</td>\n",
       "    </tr>\n",
       "    <tr>\n",
       "      <th>2021-07</th>\n",
       "      <td>0.0</td>\n",
       "      <td>1.0</td>\n",
       "      <td>0.0</td>\n",
       "    </tr>\n",
       "    <tr>\n",
       "      <th>2021-08</th>\n",
       "      <td>1.0</td>\n",
       "      <td>1.0</td>\n",
       "      <td>0.0</td>\n",
       "    </tr>\n",
       "    <tr>\n",
       "      <th>2021-09</th>\n",
       "      <td>0.0</td>\n",
       "      <td>1.0</td>\n",
       "      <td>1.0</td>\n",
       "    </tr>\n",
       "    <tr>\n",
       "      <th>2021-10</th>\n",
       "      <td>0.0</td>\n",
       "      <td>0.0</td>\n",
       "      <td>0.0</td>\n",
       "    </tr>\n",
       "    <tr>\n",
       "      <th>2021-11</th>\n",
       "      <td>0.0</td>\n",
       "      <td>1.0</td>\n",
       "      <td>0.0</td>\n",
       "    </tr>\n",
       "    <tr>\n",
       "      <th>2021-12</th>\n",
       "      <td>0.0</td>\n",
       "      <td>1.0</td>\n",
       "      <td>0.0</td>\n",
       "    </tr>\n",
       "  </tbody>\n",
       "</table>\n",
       "</div>"
      ],
      "text/plain": [
       "         이동거리  확진자  대여건수\n",
       "월                       \n",
       "2020-04   0.0  1.0   1.0\n",
       "2020-05   0.0  1.0   1.0\n",
       "2020-06   1.0  1.0   1.0\n",
       "2020-07   0.0  0.0   0.0\n",
       "2020-08   0.0  1.0   0.0\n",
       "2020-09   1.0  0.0   1.0\n",
       "2020-10   0.0  0.0   1.0\n",
       "2020-11   0.0  1.0   0.0\n",
       "2020-12   1.0  1.0   0.0\n",
       "2021-01   1.0  0.0   0.0\n",
       "2021-02   1.0  0.0   1.0\n",
       "2021-03   1.0  0.0   1.0\n",
       "2021-04   0.0  1.0   1.0\n",
       "2021-05   1.0  1.0   0.0\n",
       "2021-06   1.0  0.0   1.0\n",
       "2021-07   0.0  1.0   0.0\n",
       "2021-08   1.0  1.0   0.0\n",
       "2021-09   0.0  1.0   1.0\n",
       "2021-10   0.0  0.0   0.0\n",
       "2021-11   0.0  1.0   0.0\n",
       "2021-12   0.0  1.0   0.0"
      ]
     },
     "execution_count": 28,
     "metadata": {},
     "output_type": "execute_result"
    }
   ],
   "source": [
    "TRANS = TRANS_1.copy()\n",
    "for i in tqdm(range(len(TRANS))):\n",
    "    if TRANS['이동거리'][i] < 0:\n",
    "        TRANS['이동거리'][i] = 0\n",
    "    else:\n",
    "        TRANS['이동거리'][i] = 1\n",
    "\n",
    "    if TRANS['확진자'][i] < 0:\n",
    "        TRANS['확진자'][i] = 0\n",
    "    else:\n",
    "        TRANS['확진자'][i] = 1\n",
    "        \n",
    "    if TRANS['대여건수'][i] < 0:\n",
    "        TRANS['대여건수'][i] = 0\n",
    "    else:\n",
    "        TRANS['대여건수'][i] = 1\n",
    "\n",
    "TRANS"
   ]
  },
  {
   "cell_type": "markdown",
   "id": "1295ef05",
   "metadata": {},
   "source": [
    "# 나이브 베이지안"
   ]
  },
  {
   "cell_type": "code",
   "execution_count": 271,
   "id": "05b4d5d3",
   "metadata": {},
   "outputs": [],
   "source": [
    "from sklearn.naive_bayes import MultinomialNB\n",
    "from sklearn.model_selection import train_test_split"
   ]
  },
  {
   "cell_type": "code",
   "execution_count": 272,
   "id": "e3b2f78f",
   "metadata": {},
   "outputs": [
    {
     "data": {
      "text/plain": [
       "MultinomialNB()"
      ]
     },
     "execution_count": 272,
     "metadata": {},
     "output_type": "execute_result"
    }
   ],
   "source": [
    "M_model = MultinomialNB()\n",
    "M_model"
   ]
  },
  {
   "cell_type": "code",
   "execution_count": 279,
   "id": "190a5e8c",
   "metadata": {},
   "outputs": [],
   "source": [
    "X_train, X_test, Y_train, Y_test = train_test_split(TRANS[['확진자','대여건수']], TRANS['이동거리'], test_size=0.33)"
   ]
  },
  {
   "cell_type": "code",
   "execution_count": 280,
   "id": "a6270b6d",
   "metadata": {},
   "outputs": [
    {
     "data": {
      "text/plain": [
       "MultinomialNB()"
      ]
     },
     "execution_count": 280,
     "metadata": {},
     "output_type": "execute_result"
    }
   ],
   "source": [
    "M_model.fit(X_train, Y_train)"
   ]
  },
  {
   "cell_type": "code",
   "execution_count": 93,
   "id": "b92f3d44",
   "metadata": {},
   "outputs": [],
   "source": [
    "from sklearn.metrics import classification_report, confusion_matrix"
   ]
  },
  {
   "cell_type": "code",
   "execution_count": 207,
   "id": "0500c72b",
   "metadata": {},
   "outputs": [
    {
     "name": "stdout",
     "output_type": "stream",
     "text": [
      "              precision    recall  f1-score   support\n",
      "\n",
      "         0.0       0.60      0.75      0.67         4\n",
      "         1.0       0.50      0.33      0.40         3\n",
      "\n",
      "    accuracy                           0.57         7\n",
      "   macro avg       0.55      0.54      0.53         7\n",
      "weighted avg       0.56      0.57      0.55         7\n",
      "\n"
     ]
    }
   ],
   "source": [
    "print(classification_report(Y_test, M_model.predict(X_test)))"
   ]
  },
  {
   "cell_type": "code",
   "execution_count": 208,
   "id": "7f74116f",
   "metadata": {},
   "outputs": [
    {
     "name": "stdout",
     "output_type": "stream",
     "text": [
      "[[3 1]\n",
      " [2 1]]\n"
     ]
    }
   ],
   "source": [
    "print(confusion_matrix(Y_test, M_model.predict(X_test)))"
   ]
  },
  {
   "cell_type": "markdown",
   "id": "c44465a8",
   "metadata": {},
   "source": [
    "# 의사결정트리"
   ]
  },
  {
   "cell_type": "code",
   "execution_count": 249,
   "id": "5c730372",
   "metadata": {},
   "outputs": [],
   "source": [
    "from sklearn.tree import DecisionTreeClassifier\n",
    "# from sklearn.model_selection import train_test_split"
   ]
  },
  {
   "cell_type": "code",
   "execution_count": 259,
   "id": "cc351276",
   "metadata": {},
   "outputs": [],
   "source": [
    "# X_train, X_test, Y_train, Y_test = train_test_split(DATA0[['확진자','대여건수']], TRANS['이동거리'], test_size=0.2)"
   ]
  },
  {
   "cell_type": "code",
   "execution_count": 253,
   "id": "408926a9",
   "metadata": {},
   "outputs": [
    {
     "data": {
      "text/plain": [
       "Counter({0.0: 3, 1.0: 2})"
      ]
     },
     "execution_count": 253,
     "metadata": {},
     "output_type": "execute_result"
    }
   ],
   "source": [
    "# from collections import Counter\n",
    "# Counter(Y_train)\n",
    "# Counter(Y_test)"
   ]
  },
  {
   "cell_type": "code",
   "execution_count": 260,
   "id": "4e2d369e",
   "metadata": {},
   "outputs": [
    {
     "data": {
      "text/plain": [
       "DecisionTreeClassifier(criterion='entropy', max_depth=2)"
      ]
     },
     "execution_count": 260,
     "metadata": {},
     "output_type": "execute_result"
    }
   ],
   "source": [
    "DT = tree.DecisionTreeClassifier()\n",
    "DT"
   ]
  },
  {
   "cell_type": "code",
   "execution_count": 260,
   "id": "3998e890",
   "metadata": {},
   "outputs": [
    {
     "data": {
      "text/plain": [
       "DecisionTreeClassifier(criterion='entropy', max_depth=2)"
      ]
     },
     "execution_count": 260,
     "metadata": {},
     "output_type": "execute_result"
    }
   ],
   "source": [
    "# DT = DecisionTreeClassifier(criterion = \"entropy\", max_depth=2)\n",
    "# DT"
   ]
  },
  {
   "cell_type": "code",
   "execution_count": 43,
   "id": "17fdb69c",
   "metadata": {},
   "outputs": [
    {
     "data": {
      "text/plain": [
       "DecisionTreeClassifier()"
      ]
     },
     "execution_count": 43,
     "metadata": {},
     "output_type": "execute_result"
    }
   ],
   "source": [
    "DT.fit(TRANS[['확진자','대여건수']], TRANS['이동거리'])"
   ]
  },
  {
   "cell_type": "code",
   "execution_count": 261,
   "id": "cc318d3b",
   "metadata": {},
   "outputs": [
    {
     "data": {
      "text/plain": [
       "DecisionTreeClassifier(criterion='entropy', max_depth=2)"
      ]
     },
     "execution_count": 261,
     "metadata": {},
     "output_type": "execute_result"
    }
   ],
   "source": [
    "# DT.fit(X_train, Y_train)"
   ]
  },
  {
   "cell_type": "code",
   "execution_count": 262,
   "id": "3272457b",
   "metadata": {},
   "outputs": [],
   "source": [
    "# y_pred = DT.predict(X_test)"
   ]
  },
  {
   "cell_type": "code",
   "execution_count": 263,
   "id": "53aff863",
   "metadata": {},
   "outputs": [],
   "source": [
    "# from sklearn.metrics import accuracy_score"
   ]
  },
  {
   "cell_type": "code",
   "execution_count": 264,
   "id": "42d9cd07",
   "metadata": {},
   "outputs": [
    {
     "data": {
      "text/plain": [
       "0.4"
      ]
     },
     "execution_count": 264,
     "metadata": {},
     "output_type": "execute_result"
    }
   ],
   "source": [
    "# accuracy_score(Y_test, y_pred)"
   ]
  },
  {
   "cell_type": "code",
   "execution_count": 267,
   "id": "7645c6fe",
   "metadata": {},
   "outputs": [
    {
     "data": {
      "text/html": [
       "<div>\n",
       "<style scoped>\n",
       "    .dataframe tbody tr th:only-of-type {\n",
       "        vertical-align: middle;\n",
       "    }\n",
       "\n",
       "    .dataframe tbody tr th {\n",
       "        vertical-align: top;\n",
       "    }\n",
       "\n",
       "    .dataframe thead th {\n",
       "        text-align: right;\n",
       "    }\n",
       "</style>\n",
       "<table border=\"1\" class=\"dataframe\">\n",
       "  <thead>\n",
       "    <tr style=\"text-align: right;\">\n",
       "      <th></th>\n",
       "      <th>feature</th>\n",
       "      <th>importance</th>\n",
       "    </tr>\n",
       "  </thead>\n",
       "  <tbody>\n",
       "    <tr>\n",
       "      <th>0</th>\n",
       "      <td>확진자</td>\n",
       "      <td>0.0</td>\n",
       "    </tr>\n",
       "    <tr>\n",
       "      <th>1</th>\n",
       "      <td>대여건수</td>\n",
       "      <td>1.0</td>\n",
       "    </tr>\n",
       "  </tbody>\n",
       "</table>\n",
       "</div>"
      ],
      "text/plain": [
       "  feature  importance\n",
       "0     확진자         0.0\n",
       "1    대여건수         1.0"
      ]
     },
     "execution_count": 267,
     "metadata": {},
     "output_type": "execute_result"
    }
   ],
   "source": [
    "# DT.feature_importances_\n",
    "\n",
    "# pd.DataFrame({'feature' : X_train.columns,\n",
    "\n",
    "#               'importance' : DT.feature_importances_})"
   ]
  },
  {
   "cell_type": "code",
   "execution_count": 44,
   "id": "d75f4999",
   "metadata": {},
   "outputs": [
    {
     "data": {
      "text/plain": [
       "array([1.])"
      ]
     },
     "execution_count": 44,
     "metadata": {},
     "output_type": "execute_result"
    }
   ],
   "source": [
    "DT.predict([[0,1]]) # 확진자가 줄고 대여건수가 늘면 이동거리는 늘어남"
   ]
  },
  {
   "cell_type": "code",
   "execution_count": 45,
   "id": "daf47f3a",
   "metadata": {},
   "outputs": [
    {
     "data": {
      "text/plain": [
       "array([0.])"
      ]
     },
     "execution_count": 45,
     "metadata": {},
     "output_type": "execute_result"
    }
   ],
   "source": [
    "DT.predict([[1,0]]) # 확진자가 늘고 대여건수가 줄면 이동거리는 줄어듦"
   ]
  },
  {
   "cell_type": "code",
   "execution_count": 46,
   "id": "56b0b8ee",
   "metadata": {},
   "outputs": [
    {
     "data": {
      "text/plain": [
       "array([0.])"
      ]
     },
     "execution_count": 46,
     "metadata": {},
     "output_type": "execute_result"
    }
   ],
   "source": [
    "DT.predict([[1,1]]) # 확진자가 늘고 대여건수가 늘면 이동거리는 줄어듦"
   ]
  },
  {
   "cell_type": "code",
   "execution_count": 47,
   "id": "e0934b07",
   "metadata": {},
   "outputs": [
    {
     "data": {
      "text/plain": [
       "array([0.])"
      ]
     },
     "execution_count": 47,
     "metadata": {},
     "output_type": "execute_result"
    }
   ],
   "source": [
    "DT.predict([[0,0]]) # 확진자가 줄고 대여건수가 줄면 이동거리는 줄어듦"
   ]
  },
  {
   "cell_type": "markdown",
   "id": "35af350a",
   "metadata": {},
   "source": [
    "# SVM"
   ]
  },
  {
   "cell_type": "code",
   "execution_count": 49,
   "id": "de34529c",
   "metadata": {},
   "outputs": [],
   "source": [
    "from sklearn import svm"
   ]
  },
  {
   "cell_type": "code",
   "execution_count": 50,
   "id": "55e569b6",
   "metadata": {},
   "outputs": [
    {
     "data": {
      "text/plain": [
       "LinearSVC()"
      ]
     },
     "execution_count": 50,
     "metadata": {},
     "output_type": "execute_result"
    }
   ],
   "source": [
    "SVM = svm.LinearSVC()\n",
    "SVM"
   ]
  },
  {
   "cell_type": "code",
   "execution_count": 51,
   "id": "19b51c36",
   "metadata": {},
   "outputs": [
    {
     "data": {
      "text/plain": [
       "LinearSVC()"
      ]
     },
     "execution_count": 51,
     "metadata": {},
     "output_type": "execute_result"
    }
   ],
   "source": [
    "SVM.fit(TRANS[['확진자', '대여건수']], TRANS['이동거리'])"
   ]
  },
  {
   "cell_type": "code",
   "execution_count": 52,
   "id": "0a9bc233",
   "metadata": {},
   "outputs": [
    {
     "data": {
      "text/plain": [
       "array([1.])"
      ]
     },
     "execution_count": 52,
     "metadata": {},
     "output_type": "execute_result"
    }
   ],
   "source": [
    "SVM.predict([[0, 1]]) # 확진자가 줄고 대여건수가 늘면 이동거리는 늘어남"
   ]
  },
  {
   "cell_type": "code",
   "execution_count": 53,
   "id": "e9fe95a0",
   "metadata": {},
   "outputs": [
    {
     "data": {
      "text/plain": [
       "array([0.])"
      ]
     },
     "execution_count": 53,
     "metadata": {},
     "output_type": "execute_result"
    }
   ],
   "source": [
    "SVM.predict([[1, 0]]) # 확진자가 늘고 대여건수가 줄면 이동거리는 줄어듦"
   ]
  },
  {
   "cell_type": "code",
   "execution_count": 54,
   "id": "084dc9cb",
   "metadata": {},
   "outputs": [
    {
     "data": {
      "text/plain": [
       "array([0.])"
      ]
     },
     "execution_count": 54,
     "metadata": {},
     "output_type": "execute_result"
    }
   ],
   "source": [
    "SVM.predict([[1, 1]]) # 확진자가 늘고 대여건수가 늘면 이동거리는 줄어듦"
   ]
  },
  {
   "cell_type": "code",
   "execution_count": 55,
   "id": "646c05b5",
   "metadata": {},
   "outputs": [
    {
     "data": {
      "text/plain": [
       "array([1.])"
      ]
     },
     "execution_count": 55,
     "metadata": {},
     "output_type": "execute_result"
    }
   ],
   "source": [
    "SVM.predict([[0, 0]]) # 확진자가 줄고 대여건수가 줄면 이동거리는 늘어남"
   ]
  },
  {
   "cell_type": "code",
   "execution_count": 56,
   "id": "4e7dbe23",
   "metadata": {},
   "outputs": [
    {
     "name": "stdout",
     "output_type": "stream",
     "text": [
      "[-0.5385553   0.14220518]\n",
      "0.11996530271978817\n"
     ]
    }
   ],
   "source": [
    "print(SVM.coef_[0])\n",
    "print(SVM.intercept_[0])"
   ]
  },
  {
   "cell_type": "markdown",
   "id": "515dc113",
   "metadata": {},
   "source": [
    "# 선형회귀"
   ]
  },
  {
   "cell_type": "code",
   "execution_count": 237,
   "id": "4453630b",
   "metadata": {},
   "outputs": [],
   "source": [
    "import seaborn as sns"
   ]
  },
  {
   "cell_type": "code",
   "execution_count": 209,
   "id": "d4fc4e9c",
   "metadata": {},
   "outputs": [],
   "source": [
    "from sklearn.linear_model import LinearRegression"
   ]
  },
  {
   "cell_type": "code",
   "execution_count": 210,
   "id": "0b866c2d",
   "metadata": {},
   "outputs": [],
   "source": [
    "LR = LinearRegression(fit_intercept=True)"
   ]
  },
  {
   "cell_type": "code",
   "execution_count": 211,
   "id": "bbec18c0",
   "metadata": {},
   "outputs": [
    {
     "data": {
      "text/plain": [
       "LinearRegression(n_jobs=1)"
      ]
     },
     "execution_count": 211,
     "metadata": {},
     "output_type": "execute_result"
    }
   ],
   "source": [
    "LinearRegression(copy_X=True, fit_intercept=True, n_jobs=1, normalize=False)"
   ]
  },
  {
   "cell_type": "code",
   "execution_count": 212,
   "id": "1ea0ecec",
   "metadata": {},
   "outputs": [
    {
     "data": {
      "text/plain": [
       "(21, 1)"
      ]
     },
     "execution_count": 212,
     "metadata": {},
     "output_type": "execute_result"
    }
   ],
   "source": [
    "TRANS[['확진자']].shape"
   ]
  },
  {
   "cell_type": "code",
   "execution_count": 213,
   "id": "7de0721c",
   "metadata": {},
   "outputs": [
    {
     "data": {
      "text/plain": [
       "LinearRegression()"
      ]
     },
     "execution_count": 213,
     "metadata": {},
     "output_type": "execute_result"
    }
   ],
   "source": [
    "LR.fit(TRANS[['확진자']], TRANS['이동거리'])"
   ]
  },
  {
   "cell_type": "code",
   "execution_count": 214,
   "id": "54d80d11",
   "metadata": {},
   "outputs": [
    {
     "data": {
      "text/plain": [
       "array([-0.31730769])"
      ]
     },
     "execution_count": 214,
     "metadata": {},
     "output_type": "execute_result"
    }
   ],
   "source": [
    "LR.coef_"
   ]
  },
  {
   "cell_type": "code",
   "execution_count": 215,
   "id": "29967492",
   "metadata": {},
   "outputs": [
    {
     "data": {
      "text/plain": [
       "0.6250000000000001"
      ]
     },
     "execution_count": 215,
     "metadata": {},
     "output_type": "execute_result"
    }
   ],
   "source": [
    "LR.intercept_"
   ]
  },
  {
   "cell_type": "code",
   "execution_count": 226,
   "id": "632ce433",
   "metadata": {},
   "outputs": [],
   "source": [
    "xfit = np.linspace(0, 10000, 24)\n",
    "Xfit = xfit[:,np.newaxis]\n",
    "yfit = LR.predict(Xfit)"
   ]
  },
  {
   "cell_type": "code",
   "execution_count": 248,
   "id": "935a0418",
   "metadata": {},
   "outputs": [
    {
     "name": "stderr",
     "output_type": "stream",
     "text": [
      "C:\\ProgramData\\Anaconda3\\lib\\site-packages\\seaborn\\_decorators.py:36: FutureWarning: Pass the following variables as keyword args: x, y. From version 0.12, the only valid positional argument will be `data`, and passing other arguments without an explicit keyword will result in an error or misinterpretation.\n",
      "  warnings.warn(\n"
     ]
    },
    {
     "data": {
      "text/plain": [
       "<AxesSubplot:xlabel='확진자', ylabel='이동거리'>"
      ]
     },
     "execution_count": 248,
     "metadata": {},
     "output_type": "execute_result"
    },
    {
     "name": "stderr",
     "output_type": "stream",
     "text": [
      "C:\\ProgramData\\Anaconda3\\lib\\site-packages\\matplotlib\\backends\\backend_agg.py:240: RuntimeWarning: Glyph 8722 missing from current font.\n",
      "  font.set_text(s, 0.0, flags=flags)\n",
      "C:\\ProgramData\\Anaconda3\\lib\\site-packages\\matplotlib\\backends\\backend_agg.py:203: RuntimeWarning: Glyph 8722 missing from current font.\n",
      "  font.set_text(s, 0, flags=flags)\n"
     ]
    },
    {
     "data": {
      "image/png": "[encoded data removed]",
      "text/plain": [
       "<Figure size 864x576 with 1 Axes>"
      ]
     },
     "metadata": {},
     "output_type": "display_data"
    }
   ],
   "source": [
    "sns.regplot('확진자', '이동거리', data = COR)"
   ]
  },
  {
   "cell_type": "code",
   "execution_count": 227,
   "id": "976a0587",
   "metadata": {},
   "outputs": [
    {
     "data": {
      "text/plain": [
       "[<matplotlib.lines.Line2D at 0x28c9a00cb50>]"
      ]
     },
     "execution_count": 227,
     "metadata": {},
     "output_type": "execute_result"
    },
    {
     "name": "stderr",
     "output_type": "stream",
     "text": [
      "C:\\ProgramData\\Anaconda3\\lib\\site-packages\\matplotlib\\backends\\backend_agg.py:240: RuntimeWarning: Glyph 8722 missing from current font.\n",
      "  font.set_text(s, 0.0, flags=flags)\n",
      "C:\\ProgramData\\Anaconda3\\lib\\site-packages\\matplotlib\\backends\\backend_agg.py:203: RuntimeWarning: Glyph 8722 missing from current font.\n",
      "  font.set_text(s, 0, flags=flags)\n"
     ]
    },
    {
     "data": {
      "image/png": "[encoded data removed]",
      "text/plain": [
       "<Figure size 864x576 with 1 Axes>"
      ]
     },
     "metadata": {},
     "output_type": "display_data"
    }
   ],
   "source": [
    "plt.scatter(D_DF[['확진자']], DATA['이동거리'])\n",
    "plt.plot(Xfit,yfit)"
   ]
  },
  {
   "cell_type": "markdown",
   "id": "2cbebebe",
   "metadata": {},
   "source": [
    "# @@@@@ T분포별 pvalue 확인\n",
    "- 이동거리~확진자 상관관계"
   ]
  },
  {
   "cell_type": "code",
   "execution_count": 63,
   "id": "7c644ae6",
   "metadata": {},
   "outputs": [],
   "source": [
    "from scipy import stats"
   ]
  },
  {
   "cell_type": "code",
   "execution_count": 73,
   "id": "7d0fc1ae",
   "metadata": {},
   "outputs": [
    {
     "data": {
      "text/plain": [
       "Ttest_relResult(statistic=array([-2.15201373]), pvalue=array([0.0444653]))"
      ]
     },
     "execution_count": 73,
     "metadata": {},
     "output_type": "execute_result"
    }
   ],
   "source": [
    "stats.ttest_rel(DATA[4:],D_DF[4:])"
   ]
  },
  {
   "cell_type": "code",
   "execution_count": 75,
   "id": "569245f2",
   "metadata": {},
   "outputs": [
    {
     "data": {
      "text/plain": [
       "Ttest_relResult(statistic=array([1.28692662]), pvalue=array([0.22454184]))"
      ]
     },
     "execution_count": 75,
     "metadata": {},
     "output_type": "execute_result"
    }
   ],
   "source": [
    "stats.ttest_rel(DATA_1,D_DF_BF)"
   ]
  },
  {
   "cell_type": "code",
   "execution_count": 58,
   "id": "5342bd37",
   "metadata": {},
   "outputs": [
    {
     "data": {
      "text/plain": [
       "Ttest_relResult(statistic=array([-2.38652175]), pvalue=array([0.03608266]))"
      ]
     },
     "execution_count": 58,
     "metadata": {},
     "output_type": "execute_result"
    }
   ],
   "source": [
    "stats.ttest_rel(DATA_2,D_DF_AF)"
   ]
  },
  {
   "cell_type": "code",
   "execution_count": 291,
   "id": "b8d8d896",
   "metadata": {},
   "outputs": [
    {
     "data": {
      "text/html": [
       "<div>\n",
       "<style scoped>\n",
       "    .dataframe tbody tr th:only-of-type {\n",
       "        vertical-align: middle;\n",
       "    }\n",
       "\n",
       "    .dataframe tbody tr th {\n",
       "        vertical-align: top;\n",
       "    }\n",
       "\n",
       "    .dataframe thead th {\n",
       "        text-align: right;\n",
       "    }\n",
       "</style>\n",
       "<table border=\"1\" class=\"dataframe\">\n",
       "  <thead>\n",
       "    <tr style=\"text-align: right;\">\n",
       "      <th></th>\n",
       "      <th>확진자</th>\n",
       "    </tr>\n",
       "    <tr>\n",
       "      <th>월</th>\n",
       "      <th></th>\n",
       "    </tr>\n",
       "  </thead>\n",
       "  <tbody>\n",
       "    <tr>\n",
       "      <th>2020-05</th>\n",
       "      <td>228</td>\n",
       "    </tr>\n",
       "    <tr>\n",
       "      <th>2020-06</th>\n",
       "      <td>451</td>\n",
       "    </tr>\n",
       "    <tr>\n",
       "      <th>2020-07</th>\n",
       "      <td>288</td>\n",
       "    </tr>\n",
       "    <tr>\n",
       "      <th>2020-08</th>\n",
       "      <td>2267</td>\n",
       "    </tr>\n",
       "    <tr>\n",
       "      <th>2020-09</th>\n",
       "      <td>1424</td>\n",
       "    </tr>\n",
       "    <tr>\n",
       "      <th>2020-10</th>\n",
       "      <td>719</td>\n",
       "    </tr>\n",
       "    <tr>\n",
       "      <th>2020-11</th>\n",
       "      <td>2802</td>\n",
       "    </tr>\n",
       "    <tr>\n",
       "      <th>2020-12</th>\n",
       "      <td>10209</td>\n",
       "    </tr>\n",
       "    <tr>\n",
       "      <th>2021-01</th>\n",
       "      <td>5168</td>\n",
       "    </tr>\n",
       "    <tr>\n",
       "      <th>2021-02</th>\n",
       "      <td>4083</td>\n",
       "    </tr>\n",
       "    <tr>\n",
       "      <th>2021-03</th>\n",
       "      <td>3803</td>\n",
       "    </tr>\n",
       "    <tr>\n",
       "      <th>2021-04</th>\n",
       "      <td>5811</td>\n",
       "    </tr>\n",
       "    <tr>\n",
       "      <th>2021-05</th>\n",
       "      <td>6303</td>\n",
       "    </tr>\n",
       "    <tr>\n",
       "      <th>2021-06</th>\n",
       "      <td>6075</td>\n",
       "    </tr>\n",
       "    <tr>\n",
       "      <th>2021-07</th>\n",
       "      <td>14377</td>\n",
       "    </tr>\n",
       "    <tr>\n",
       "      <th>2021-08</th>\n",
       "      <td>15019</td>\n",
       "    </tr>\n",
       "    <tr>\n",
       "      <th>2021-09</th>\n",
       "      <td>21148</td>\n",
       "    </tr>\n",
       "    <tr>\n",
       "      <th>2021-10</th>\n",
       "      <td>19123</td>\n",
       "    </tr>\n",
       "    <tr>\n",
       "      <th>2021-11</th>\n",
       "      <td>34711</td>\n",
       "    </tr>\n",
       "    <tr>\n",
       "      <th>2021-12</th>\n",
       "      <td>70977</td>\n",
       "    </tr>\n",
       "  </tbody>\n",
       "</table>\n",
       "</div>"
      ],
      "text/plain": [
       "           확진자\n",
       "월             \n",
       "2020-05    228\n",
       "2020-06    451\n",
       "2020-07    288\n",
       "2020-08   2267\n",
       "2020-09   1424\n",
       "2020-10    719\n",
       "2020-11   2802\n",
       "2020-12  10209\n",
       "2021-01   5168\n",
       "2021-02   4083\n",
       "2021-03   3803\n",
       "2021-04   5811\n",
       "2021-05   6303\n",
       "2021-06   6075\n",
       "2021-07  14377\n",
       "2021-08  15019\n",
       "2021-09  21148\n",
       "2021-10  19123\n",
       "2021-11  34711\n",
       "2021-12  70977"
      ]
     },
     "execution_count": 291,
     "metadata": {},
     "output_type": "execute_result"
    }
   ],
   "source": [
    "D_DF[4:]"
   ]
  },
  {
   "cell_type": "code",
   "execution_count": 289,
   "id": "ba76d33e",
   "metadata": {},
   "outputs": [
    {
     "data": {
      "text/plain": [
       "Ttest_relResult(statistic=array([-3.39266959]), pvalue=array([0.00305469]))"
      ]
     },
     "execution_count": 289,
     "metadata": {},
     "output_type": "execute_result"
    }
   ],
   "source": [
    "stats.ttest_rel(D_DF[4:],B_DF_AF[4:]/100)"
   ]
  },
  {
   "cell_type": "code",
   "execution_count": 290,
   "id": "070924cf",
   "metadata": {},
   "outputs": [
    {
     "data": {
      "text/html": [
       "<div>\n",
       "<style scoped>\n",
       "    .dataframe tbody tr th:only-of-type {\n",
       "        vertical-align: middle;\n",
       "    }\n",
       "\n",
       "    .dataframe tbody tr th {\n",
       "        vertical-align: top;\n",
       "    }\n",
       "\n",
       "    .dataframe thead th {\n",
       "        text-align: right;\n",
       "    }\n",
       "</style>\n",
       "<table border=\"1\" class=\"dataframe\">\n",
       "  <thead>\n",
       "    <tr style=\"text-align: right;\">\n",
       "      <th></th>\n",
       "      <th>대여건수</th>\n",
       "    </tr>\n",
       "    <tr>\n",
       "      <th>월</th>\n",
       "      <th></th>\n",
       "    </tr>\n",
       "  </thead>\n",
       "  <tbody>\n",
       "    <tr>\n",
       "      <th>2020-05</th>\n",
       "      <td>2480330</td>\n",
       "    </tr>\n",
       "    <tr>\n",
       "      <th>2020-06</th>\n",
       "      <td>2770858</td>\n",
       "    </tr>\n",
       "    <tr>\n",
       "      <th>2020-07</th>\n",
       "      <td>2582511</td>\n",
       "    </tr>\n",
       "    <tr>\n",
       "      <th>2020-08</th>\n",
       "      <td>1733973</td>\n",
       "    </tr>\n",
       "    <tr>\n",
       "      <th>2020-09</th>\n",
       "      <td>2811990</td>\n",
       "    </tr>\n",
       "    <tr>\n",
       "      <th>2020-10</th>\n",
       "      <td>2891618</td>\n",
       "    </tr>\n",
       "    <tr>\n",
       "      <th>2020-11</th>\n",
       "      <td>1990070</td>\n",
       "    </tr>\n",
       "    <tr>\n",
       "      <th>2020-12</th>\n",
       "      <td>1196309</td>\n",
       "    </tr>\n",
       "    <tr>\n",
       "      <th>2021-01</th>\n",
       "      <td>812021</td>\n",
       "    </tr>\n",
       "    <tr>\n",
       "      <th>2021-02</th>\n",
       "      <td>1234546</td>\n",
       "    </tr>\n",
       "    <tr>\n",
       "      <th>2021-03</th>\n",
       "      <td>2184228</td>\n",
       "    </tr>\n",
       "    <tr>\n",
       "      <th>2021-04</th>\n",
       "      <td>3043238</td>\n",
       "    </tr>\n",
       "    <tr>\n",
       "      <th>2021-05</th>\n",
       "      <td>2950150</td>\n",
       "    </tr>\n",
       "    <tr>\n",
       "      <th>2021-06</th>\n",
       "      <td>3460407</td>\n",
       "    </tr>\n",
       "    <tr>\n",
       "      <th>2021-07</th>\n",
       "      <td>3377506</td>\n",
       "    </tr>\n",
       "    <tr>\n",
       "      <th>2021-08</th>\n",
       "      <td>3245974</td>\n",
       "    </tr>\n",
       "    <tr>\n",
       "      <th>2021-09</th>\n",
       "      <td>3736657</td>\n",
       "    </tr>\n",
       "    <tr>\n",
       "      <th>2021-10</th>\n",
       "      <td>3445929</td>\n",
       "    </tr>\n",
       "    <tr>\n",
       "      <th>2021-11</th>\n",
       "      <td>2737291</td>\n",
       "    </tr>\n",
       "    <tr>\n",
       "      <th>2021-12</th>\n",
       "      <td>1826746</td>\n",
       "    </tr>\n",
       "  </tbody>\n",
       "</table>\n",
       "</div>"
      ],
      "text/plain": [
       "            대여건수\n",
       "월               \n",
       "2020-05  2480330\n",
       "2020-06  2770858\n",
       "2020-07  2582511\n",
       "2020-08  1733973\n",
       "2020-09  2811990\n",
       "2020-10  2891618\n",
       "2020-11  1990070\n",
       "2020-12  1196309\n",
       "2021-01   812021\n",
       "2021-02  1234546\n",
       "2021-03  2184228\n",
       "2021-04  3043238\n",
       "2021-05  2950150\n",
       "2021-06  3460407\n",
       "2021-07  3377506\n",
       "2021-08  3245974\n",
       "2021-09  3736657\n",
       "2021-10  3445929\n",
       "2021-11  2737291\n",
       "2021-12  1826746"
      ]
     },
     "execution_count": 290,
     "metadata": {},
     "output_type": "execute_result"
    }
   ],
   "source": [
    "B_DF_AF[4:]"
   ]
  },
  {
   "cell_type": "markdown",
   "id": "92a344e4",
   "metadata": {},
   "source": [
    "# 공분산"
   ]
  },
  {
   "cell_type": "code",
   "execution_count": 27,
   "id": "3d8f1593",
   "metadata": {},
   "outputs": [
    {
     "data": {
      "image/png": "[encoded data removed]",
      "text/plain": [
       "<Figure size 864x576 with 1 Axes>"
      ]
     },
     "metadata": {},
     "output_type": "display_data"
    }
   ],
   "source": [
    "plt.style.use('ggplot')\n",
    "plt.rcParams['figure.figsize'] = (12, 8)\n",
    "plt.rcParams['font.size'] = 12\n",
    "plt.rcParams['lines.linewidth'] = 2\n",
    "\n",
    "plt.plot(DATA, D_DF, 'o')\n",
    "\n",
    "plt.xlabel('이동거리')\n",
    "plt.ylabel('확진자수')\n",
    "plt.show()"
   ]
  },
  {
   "cell_type": "code",
   "execution_count": 42,
   "id": "02980228",
   "metadata": {},
   "outputs": [
    {
     "data": {
      "text/plain": [
       "array([[ 5.52442818e+06, -9.34812626e+06],\n",
       "       [-9.34812626e+06,  2.46386095e+08]])"
      ]
     },
     "execution_count": 42,
     "metadata": {},
     "output_type": "execute_result"
    }
   ],
   "source": [
    "np.cov(DATA['이동거리'], D_DF['확진자']) # 공분산 = -9.34812626e+06  (음의 방향으로 변화)"
   ]
  },
  {
   "cell_type": "code",
   "execution_count": 47,
   "id": "174dc685",
   "metadata": {},
   "outputs": [
    {
     "data": {
      "text/plain": [
       "array([[ 1.        , -0.25338028],\n",
       "       [-0.25338028,  1.        ]])"
      ]
     },
     "execution_count": 47,
     "metadata": {},
     "output_type": "execute_result"
    }
   ],
   "source": [
    "np.corrcoef(DATA['이동거리'], D_DF['확진자']) # -0.25338028 음의 상관관계"
   ]
  },
  {
   "cell_type": "code",
   "execution_count": 51,
   "id": "f6e23a87",
   "metadata": {},
   "outputs": [
    {
     "data": {
      "text/plain": [
       "array([[ 6.67827704, -0.25338028],\n",
       "       [-0.25338028,  0.14973922]])"
      ]
     },
     "execution_count": 51,
     "metadata": {},
     "output_type": "execute_result"
    }
   ],
   "source": [
    "x = D_DF['확진자']\n",
    "y = DATA['이동거리']\n",
    "cov = np.cov(x, y)\n",
    "xsd = np.std(x, ddof = 1)\n",
    "ysd = np.std(y, ddof = 1)\n",
    "\n",
    "cov / (xsd * ysd) # -0.25338028 음의상관관계 직접계산 / 비선형적이면 측정 불가"
   ]
  },
  {
   "cell_type": "markdown",
   "id": "080c4ef2",
   "metadata": {},
   "source": [
    "# 스피어만"
   ]
  },
  {
   "cell_type": "code",
   "execution_count": 52,
   "id": "030901a6",
   "metadata": {},
   "outputs": [],
   "source": [
    "import scipy.stats"
   ]
  },
  {
   "cell_type": "code",
   "execution_count": 57,
   "id": "3be4b550",
   "metadata": {},
   "outputs": [
    {
     "data": {
      "text/plain": [
       "SpearmanrResult(correlation=-0.41427343801190747, pvalue=0.04415242755367268)"
      ]
     },
     "execution_count": 57,
     "metadata": {},
     "output_type": "execute_result"
    }
   ],
   "source": [
    "scipy.stats.spearmanr(x,y)"
   ]
  },
  {
   "cell_type": "markdown",
   "id": "61b04097",
   "metadata": {},
   "source": [
    "# kendall tau"
   ]
  },
  {
   "cell_type": "code",
   "execution_count": 58,
   "id": "40c300ec",
   "metadata": {},
   "outputs": [
    {
     "data": {
      "text/plain": [
       "KendalltauResult(correlation=-0.3023724562500155, pvalue=0.03929430019325364)"
      ]
     },
     "execution_count": 58,
     "metadata": {},
     "output_type": "execute_result"
    }
   ],
   "source": [
    "scipy.stats.kendalltau(x,y)"
   ]
  },
  {
   "cell_type": "markdown",
   "id": "21833e00",
   "metadata": {},
   "source": [
    "# 피어슨, p값"
   ]
  },
  {
   "cell_type": "code",
   "execution_count": 56,
   "id": "0bd20c44",
   "metadata": {},
   "outputs": [
    {
     "data": {
      "text/plain": [
       "(-0.2533802767647832, 0.2322211629277606)"
      ]
     },
     "execution_count": 56,
     "metadata": {},
     "output_type": "execute_result"
    }
   ],
   "source": [
    "scipy.stats.pearsonr(x, y)"
   ]
  },
  {
   "cell_type": "markdown",
   "id": "fdb5f97a",
   "metadata": {},
   "source": [
    "# 공분산성이 없는 조합"
   ]
  },
  {
   "cell_type": "code",
   "execution_count": 43,
   "id": "e3d65cc2",
   "metadata": {},
   "outputs": [],
   "source": [
    "z = [-3, -2, -1, 0, 1, 2, 3]\n",
    "w = [9, 4, 1, 0, 1, 4, 9]"
   ]
  },
  {
   "cell_type": "code",
   "execution_count": 44,
   "id": "1085e8fc",
   "metadata": {},
   "outputs": [
    {
     "name": "stderr",
     "output_type": "stream",
     "text": [
      "C:\\ProgramData\\Anaconda3\\lib\\site-packages\\matplotlib\\backends\\backend_agg.py:240: RuntimeWarning: Glyph 8722 missing from current font.\n",
      "  font.set_text(s, 0.0, flags=flags)\n",
      "C:\\ProgramData\\Anaconda3\\lib\\site-packages\\matplotlib\\backends\\backend_agg.py:203: RuntimeWarning: Glyph 8722 missing from current font.\n",
      "  font.set_text(s, 0, flags=flags)\n"
     ]
    },
    {
     "data": {
      "image/png": "[encoded data removed]",
      "text/plain": [
       "<Figure size 864x576 with 1 Axes>"
      ]
     },
     "metadata": {},
     "output_type": "display_data"
    }
   ],
   "source": [
    "plt.style.use('ggplot')\n",
    "plt.rcParams['figure.figsize'] = (12, 8)\n",
    "plt.rcParams['font.size'] = 12\n",
    "plt.rcParams['lines.linewidth'] = 2\n",
    "\n",
    "plt.plot(z, w, 'o')\n",
    "plt.show()"
   ]
  },
  {
   "cell_type": "code",
   "execution_count": 45,
   "id": "cd6ab18f",
   "metadata": {},
   "outputs": [
    {
     "data": {
      "text/plain": [
       "array([[ 4.66666667,  0.        ],\n",
       "       [ 0.        , 14.        ]])"
      ]
     },
     "execution_count": 45,
     "metadata": {},
     "output_type": "execute_result"
    }
   ],
   "source": [
    "np.cov(z, w) # 확실히 관계성이 있지만 공분산이 0이므로 선형관계는 없음 (공분산은 선형관계만 설명 가능)"
   ]
  },
  {
   "cell_type": "markdown",
   "id": "bfe80470",
   "metadata": {},
   "source": [
    "# Ttest 검증\n",
    "- 대응표본"
   ]
  },
  {
   "cell_type": "code",
   "execution_count": 61,
   "id": "cae6da52",
   "metadata": {
    "scrolled": true
   },
   "outputs": [
    {
     "data": {
      "text/html": [
       "<div>\n",
       "<style scoped>\n",
       "    .dataframe tbody tr th:only-of-type {\n",
       "        vertical-align: middle;\n",
       "    }\n",
       "\n",
       "    .dataframe tbody tr th {\n",
       "        vertical-align: top;\n",
       "    }\n",
       "\n",
       "    .dataframe thead th {\n",
       "        text-align: right;\n",
       "    }\n",
       "</style>\n",
       "<table border=\"1\" class=\"dataframe\">\n",
       "  <thead>\n",
       "    <tr style=\"text-align: right;\">\n",
       "      <th></th>\n",
       "      <th>이동거리</th>\n",
       "    </tr>\n",
       "    <tr>\n",
       "      <th>월</th>\n",
       "      <th></th>\n",
       "    </tr>\n",
       "  </thead>\n",
       "  <tbody>\n",
       "    <tr>\n",
       "      <th>2020-01</th>\n",
       "      <td>4523.796668</td>\n",
       "    </tr>\n",
       "    <tr>\n",
       "      <th>2020-02</th>\n",
       "      <td>4825.902353</td>\n",
       "    </tr>\n",
       "    <tr>\n",
       "      <th>2020-03</th>\n",
       "      <td>6733.142302</td>\n",
       "    </tr>\n",
       "    <tr>\n",
       "      <th>2020-04</th>\n",
       "      <td>5952.447186</td>\n",
       "    </tr>\n",
       "    <tr>\n",
       "      <th>2020-05</th>\n",
       "      <td>3870.881290</td>\n",
       "    </tr>\n",
       "    <tr>\n",
       "      <th>2020-06</th>\n",
       "      <td>9780.351784</td>\n",
       "    </tr>\n",
       "    <tr>\n",
       "      <th>2020-07</th>\n",
       "      <td>2944.518821</td>\n",
       "    </tr>\n",
       "    <tr>\n",
       "      <th>2020-08</th>\n",
       "      <td>725.609916</td>\n",
       "    </tr>\n",
       "    <tr>\n",
       "      <th>2020-09</th>\n",
       "      <td>983.861150</td>\n",
       "    </tr>\n",
       "    <tr>\n",
       "      <th>2020-10</th>\n",
       "      <td>500.404606</td>\n",
       "    </tr>\n",
       "    <tr>\n",
       "      <th>2020-11</th>\n",
       "      <td>244.427248</td>\n",
       "    </tr>\n",
       "    <tr>\n",
       "      <th>2020-12</th>\n",
       "      <td>352.082058</td>\n",
       "    </tr>\n",
       "    <tr>\n",
       "      <th>2021-01</th>\n",
       "      <td>27027.764791</td>\n",
       "    </tr>\n",
       "    <tr>\n",
       "      <th>2021-02</th>\n",
       "      <td>30719.078821</td>\n",
       "    </tr>\n",
       "    <tr>\n",
       "      <th>2021-03</th>\n",
       "      <td>46575.993026</td>\n",
       "    </tr>\n",
       "    <tr>\n",
       "      <th>2021-04</th>\n",
       "      <td>33579.452818</td>\n",
       "    </tr>\n",
       "    <tr>\n",
       "      <th>2021-05</th>\n",
       "      <td>33828.219004</td>\n",
       "    </tr>\n",
       "    <tr>\n",
       "      <th>2021-06</th>\n",
       "      <td>75453.208990</td>\n",
       "    </tr>\n",
       "    <tr>\n",
       "      <th>2021-07</th>\n",
       "      <td>31360.446586</td>\n",
       "    </tr>\n",
       "    <tr>\n",
       "      <th>2021-08</th>\n",
       "      <td>31599.967110</td>\n",
       "    </tr>\n",
       "    <tr>\n",
       "      <th>2021-09</th>\n",
       "      <td>28913.118354</td>\n",
       "    </tr>\n",
       "    <tr>\n",
       "      <th>2021-10</th>\n",
       "      <td>26084.461873</td>\n",
       "    </tr>\n",
       "    <tr>\n",
       "      <th>2021-11</th>\n",
       "      <td>21727.814666</td>\n",
       "    </tr>\n",
       "    <tr>\n",
       "      <th>2021-12</th>\n",
       "      <td>18242.544250</td>\n",
       "    </tr>\n",
       "  </tbody>\n",
       "</table>\n",
       "</div>"
      ],
      "text/plain": [
       "                 이동거리\n",
       "월                    \n",
       "2020-01   4523.796668\n",
       "2020-02   4825.902353\n",
       "2020-03   6733.142302\n",
       "2020-04   5952.447186\n",
       "2020-05   3870.881290\n",
       "2020-06   9780.351784\n",
       "2020-07   2944.518821\n",
       "2020-08    725.609916\n",
       "2020-09    983.861150\n",
       "2020-10    500.404606\n",
       "2020-11    244.427248\n",
       "2020-12    352.082058\n",
       "2021-01  27027.764791\n",
       "2021-02  30719.078821\n",
       "2021-03  46575.993026\n",
       "2021-04  33579.452818\n",
       "2021-05  33828.219004\n",
       "2021-06  75453.208990\n",
       "2021-07  31360.446586\n",
       "2021-08  31599.967110\n",
       "2021-09  28913.118354\n",
       "2021-10  26084.461873\n",
       "2021-11  21727.814666\n",
       "2021-12  18242.544250"
      ]
     },
     "execution_count": 61,
     "metadata": {},
     "output_type": "execute_result"
    }
   ],
   "source": [
    "tt = DATA_1.append((DATA_2*10))\n",
    "tt"
   ]
  },
  {
   "cell_type": "code",
   "execution_count": 71,
   "id": "069cc52d",
   "metadata": {},
   "outputs": [
    {
     "data": {
      "text/plain": [
       "Ttest_relResult(statistic=array([2.04275535]), pvalue=array([0.05270105]))"
      ]
     },
     "execution_count": 71,
     "metadata": {},
     "output_type": "execute_result"
    }
   ],
   "source": [
    "stats.ttest_rel(tt,D_DF)"
   ]
  },
  {
   "cell_type": "code",
   "execution_count": 87,
   "id": "199c18e6",
   "metadata": {},
   "outputs": [
    {
     "data": {
      "text/plain": [
       "Ttest_relResult(statistic=array([-2.15201373]), pvalue=array([0.0444653]))"
      ]
     },
     "execution_count": 87,
     "metadata": {},
     "output_type": "execute_result"
    }
   ],
   "source": [
    "stats.ttest_rel(DATA[4:],D_DF[4:]) # 대응표본 A, B의 차이를 구함, \n",
    "# 가설 :모집단 차이의 평균 0 -> 표본 차이의 평균도 0"
   ]
  },
  {
   "cell_type": "code",
   "execution_count": 79,
   "id": "b5c22b58",
   "metadata": {},
   "outputs": [
    {
     "data": {
      "text/plain": [
       "이동거리    2995.667195\n",
       "dtype: float64"
      ]
     },
     "execution_count": 79,
     "metadata": {},
     "output_type": "execute_result"
    }
   ],
   "source": [
    "np.mean(DATA[4:])"
   ]
  },
  {
   "cell_type": "code",
   "execution_count": 73,
   "id": "3854960a",
   "metadata": {},
   "outputs": [
    {
     "data": {
      "text/plain": [
       "확진자    11249.3\n",
       "dtype: float64"
      ]
     },
     "execution_count": 73,
     "metadata": {},
     "output_type": "execute_result"
    }
   ],
   "source": [
    "np.mean(D_DF[4:])"
   ]
  },
  {
   "cell_type": "markdown",
   "id": "d3131ab6",
   "metadata": {},
   "source": [
    "- 독립표본"
   ]
  },
  {
   "cell_type": "code",
   "execution_count": 86,
   "id": "be660581",
   "metadata": {},
   "outputs": [
    {
     "data": {
      "text/plain": [
       "Ttest_indResult(statistic=array([-2.09839796]), pvalue=array([0.0482474]))"
      ]
     },
     "execution_count": 86,
     "metadata": {},
     "output_type": "execute_result"
    }
   ],
   "source": [
    "m = scipy.stats.ttest_ind(DATA[3:], D_DF[3:], equal_var=False)\n",
    "# ttest_ind 두 집단의 평균차이가 유의미한지 t검증 (독립표본, 서로 크기 달라도 상관없음)\n",
    "# 독립표본 A, B의 모평균은 동일하며, 그 가설이 맞다면 유의수준이 0.05를 넘지 않아야 함\n",
    "m"
   ]
  },
  {
   "cell_type": "code",
   "execution_count": 82,
   "id": "9f350fc2",
   "metadata": {},
   "outputs": [
    {
     "data": {
      "text/plain": [
       "array([0.35690021])"
      ]
     },
     "execution_count": 82,
     "metadata": {},
     "output_type": "execute_result"
    }
   ],
   "source": [
    "t = m.statistic\n",
    "df = len(DATA[4:]) + len(D_DF[4:]) - 2 # 자유도\n",
    "abs(t) / np.sqrt(df)                    # 효과크기는 중간수준 (0.2 낮음/ 0.5 중간 / 0.8 큰편)"
   ]
  },
  {
   "cell_type": "code",
   "execution_count": 83,
   "id": "dbb76a06",
   "metadata": {},
   "outputs": [
    {
     "data": {
      "text/plain": [
       "array([0.33613371])"
      ]
     },
     "execution_count": 83,
     "metadata": {},
     "output_type": "execute_result"
    }
   ],
   "source": [
    "t2 = t ** 2\n",
    "np.sqrt(t2 / (t2 + df))"
   ]
  },
  {
   "cell_type": "code",
   "execution_count": null,
   "id": "da6dba7d",
   "metadata": {},
   "outputs": [],
   "source": []
  }
 ],
 "metadata": {
  "kernelspec": {
   "display_name": "Python 3 (ipykernel)",
   "language": "python",
   "name": "python3"
  },
  "language_info": {
   "codemirror_mode": {
    "name": "ipython",
    "version": 3
   },
   "file_extension": ".py",
   "mimetype": "text/x-python",
   "name": "python",
   "nbconvert_exporter": "python",
   "pygments_lexer": "ipython3",
   "version": "3.9.7"
  }
 },
 "nbformat": 4,
 "nbformat_minor": 5
}
